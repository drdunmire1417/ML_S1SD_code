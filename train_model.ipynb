{
 "cells": [
  {
   "cell_type": "code",
   "execution_count": 1,
   "id": "47bc3901-0ee4-4b24-9a87-39c644e33a32",
   "metadata": {},
   "outputs": [],
   "source": [
    "from pycaret.regression import *\n",
    "import xarray as xr\n",
    "import pickle\n",
    "import pandas as pd\n",
    "import numpy as np\n",
    "import matplotlib.pyplot as plt\n",
    "from matplotlib.colors import ListedColormap\n",
    "from matplotlib.colors import LogNorm\n",
    "from matplotlib.colors import ListedColormap, LinearSegmentedColormap, LogNorm\n",
    "\n",
    "import warnings\n",
    "\n",
    "from scipy import stats\n",
    "pd.set_option('display.max_columns', None)\n",
    "# Suppress all warnings\n",
    "warnings.filterwarnings(\"ignore\")\n",
    "\n",
    "import logging\n",
    "logging.getLogger('matplotlib.font_manager').disabled = True\n",
    "import shap"
   ]
  },
  {
   "cell_type": "code",
   "execution_count": 2,
   "id": "626979af-3466-487d-8f2f-039ad02a0799",
   "metadata": {},
   "outputs": [],
   "source": [
    "# Example colormaps\n",
    "cmap1 = plt.cm.Blues\n",
    "cmap2 = plt.cm.plasma\n",
    "cmap3 = plt.cm.plasma\n",
    "\n",
    "colors1 = cmap1(np.linspace(0.01, 1,250))\n",
    "colors2 = cmap2(np.linspace(0.2, 1, 400))\n",
    "colors3 = cmap3(np.linspace(0.8, 1, 100))\n",
    "\n",
    "colors = np.vstack((colors1, colors2))\n",
    "\n",
    "colors_pd = pd.DataFrame(colors)\n",
    "colors_pd = colors_pd.rolling(window = 250, min_periods = 1).mean()\n",
    "x = colors_pd.values\n",
    "colors = np.vstack((colors_pd.values, colors3))\n",
    "colors_pd = pd.DataFrame(colors)\n",
    "colors_pd = colors_pd.rolling(window = 50, min_periods = 1).mean()\n",
    "x = colors_pd.values\n",
    "# colors3 = colors_pd.values\n",
    "\n",
    "blended_cmap = LinearSegmentedColormap.from_list('blended_cmap', x)\n",
    "\n",
    "def subset_training(train_df):\n",
    "\n",
    "    deep = train_df[(train_df.sd_insitu>3)]\n",
    "    mid = train_df[(train_df.sd_insitu>1)&(train_df.sd_insitu<3)]\n",
    "    shallow = train_df[(train_df.sd_insitu<1)&(train_df.sd_insitu>0)]\n",
    "    zero = train_df[(train_df.sd_insitu==0)]\n",
    "    \n",
    "    nn = int(len(mid))\n",
    "    new_mid = mid.sample(frac=0.75)\n",
    "    new_shallow = shallow.sample(frac = 0.5)\n",
    "    new_zero = zero.sample(frac = 0.5)\n",
    "    data_subset = pd.concat([deep, mid, shallow, new_zero])\n",
    "\n",
    "    return data_subset\n",
    " "
   ]
  },
  {
   "cell_type": "code",
   "execution_count": 21,
   "id": "e17c0ede-5178-41b6-a498-645f6bf219f0",
   "metadata": {},
   "outputs": [],
   "source": [
    "with open('/staging/leuven/stg_00024/OUTPUT/devond/S1_ML_project/training_testing/training_data.p', 'rb') as fp:\n",
    "    all_data = pickle.load(fp) \n",
    "    \n",
    "with open('/staging/leuven/stg_00024/OUTPUT/devond/S1_ML_project/training_testing/map_training_data.p', 'rb') as fp:\n",
    "    all_data_map = pickle.load(fp) \n",
    "\n",
    "all_data = subset_training(all_data)\n",
    "all_data = pd.concat([all_data, all_data_map])\n",
    "\n",
    "all_data[(all_data.sc_percum<0.25)&(all_data.sd_insitu>0.5)] = np.nan\n",
    "all_data[(all_data.sc_percum>5)&(all_data.sd_insitu==0)] = np.nan\n",
    "all_data = all_data.dropna(how = 'all')\n"
   ]
  },
  {
   "cell_type": "code",
   "execution_count": 31,
   "id": "58b42be1-0aa0-4a48-b7a5-7ad971dc7d35",
   "metadata": {},
   "outputs": [],
   "source": [
    "numeric_features = ['elevation','slope','aspect','fcf','tpi', 'DayOfSeason', 'sc_percum', 'lia', 'sc_per', 'cr_scaled', 'vv_scaled']\n",
    "categorical_features = ['snowclass']\n",
    "\n",
    "all_features = numeric_features.copy()\n",
    "all_features.extend(categorical_features)\n",
    "all_features.append('sd_insitu')\n",
    "all_features.append('fold')\n",
    "\n",
    "RegressionExperiment()\n",
    "all_pred = pd.DataFrame()"
   ]
  },
  {
   "cell_type": "code",
   "execution_count": 20,
   "id": "0bb83aa7-f8fc-4629-ae19-33252e79b85d",
   "metadata": {
    "collapsed": true,
    "jupyter": {
     "outputs_hidden": true
    },
    "tags": []
   },
   "outputs": [
    {
     "ename": "KeyboardInterrupt",
     "evalue": "",
     "output_type": "error",
     "traceback": [
      "\u001b[0;31m---------------------------------------------------------------------------\u001b[0m",
      "\u001b[0;31mKeyboardInterrupt\u001b[0m                         Traceback (most recent call last)",
      "Cell \u001b[0;32mIn[20], line 14\u001b[0m\n\u001b[1;32m     11\u001b[0m train_subset \u001b[38;5;241m=\u001b[39m subset_training(train_features)\n\u001b[1;32m     12\u001b[0m train_subset \u001b[38;5;241m=\u001b[39m train_subset\u001b[38;5;241m.\u001b[39mreset_index(drop\u001b[38;5;241m=\u001b[39m\u001b[38;5;28;01mTrue\u001b[39;00m)\n\u001b[0;32m---> 14\u001b[0m regr \u001b[38;5;241m=\u001b[39m \u001b[43msetup\u001b[49m\u001b[43m(\u001b[49m\u001b[43mtrain_subset\u001b[49m\u001b[43m,\u001b[49m\u001b[43m \u001b[49m\u001b[43mtest_data\u001b[49m\u001b[43m \u001b[49m\u001b[38;5;241;43m=\u001b[39;49m\u001b[43m \u001b[49m\u001b[43mtest_features\u001b[49m\u001b[43m,\u001b[49m\u001b[43m \u001b[49m\u001b[43mtarget\u001b[49m\u001b[43m \u001b[49m\u001b[38;5;241;43m=\u001b[39;49m\u001b[43m \u001b[49m\u001b[38;5;124;43m'\u001b[39;49m\u001b[38;5;124;43msd_insitu\u001b[39;49m\u001b[38;5;124;43m'\u001b[39;49m\u001b[43m,\u001b[49m\u001b[43m \u001b[49m\u001b[43mignore_features\u001b[49m\u001b[43m \u001b[49m\u001b[38;5;241;43m=\u001b[39;49m\u001b[43m \u001b[49m\u001b[43m[\u001b[49m\u001b[38;5;124;43m'\u001b[39;49m\u001b[38;5;124;43mfold\u001b[39;49m\u001b[38;5;124;43m'\u001b[39;49m\u001b[43m,\u001b[49m\u001b[43m \u001b[49m\u001b[38;5;124;43m'\u001b[39;49m\u001b[38;5;124;43msd_hans\u001b[39;49m\u001b[38;5;124;43m'\u001b[39;49m\u001b[43m]\u001b[49m\u001b[43m,\u001b[49m\u001b[43m \u001b[49m\u001b[43mnumeric_features\u001b[49m\u001b[43m \u001b[49m\u001b[38;5;241;43m=\u001b[39;49m\u001b[43m \u001b[49m\u001b[43mnumeric_features\u001b[49m\u001b[43m,\u001b[49m\u001b[43m \u001b[49m\u001b[43mcategorical_features\u001b[49m\u001b[43m \u001b[49m\u001b[38;5;241;43m=\u001b[39;49m\u001b[43m \u001b[49m\u001b[43mcategorical_features\u001b[49m\u001b[43m,\u001b[49m\u001b[43m\\\u001b[49m\n\u001b[1;32m     15\u001b[0m \u001b[43m    \u001b[49m\u001b[43mnumeric_imputation\u001b[49m\u001b[38;5;241;43m=\u001b[39;49m\u001b[38;5;124;43m'\u001b[39;49m\u001b[38;5;124;43mdrop\u001b[39;49m\u001b[38;5;124;43m'\u001b[39;49m\u001b[43m,\u001b[49m\u001b[43mindex\u001b[49m\u001b[43m \u001b[49m\u001b[38;5;241;43m=\u001b[39;49m\u001b[43m \u001b[49m\u001b[38;5;28;43;01mFalse\u001b[39;49;00m\u001b[43m,\u001b[49m\u001b[43m \u001b[49m\u001b[43mnormalize\u001b[49m\u001b[43m \u001b[49m\u001b[38;5;241;43m=\u001b[39;49m\u001b[43m \u001b[49m\u001b[38;5;28;43;01mTrue\u001b[39;49;00m\u001b[43m,\u001b[49m\u001b[43m \u001b[49m\u001b[43mfold_strategy\u001b[49m\u001b[43m \u001b[49m\u001b[38;5;241;43m=\u001b[39;49m\u001b[43m \u001b[49m\u001b[38;5;124;43m'\u001b[39;49m\u001b[38;5;124;43mgroupkfold\u001b[39;49m\u001b[38;5;124;43m'\u001b[39;49m\u001b[43m,\u001b[49m\u001b[43m \u001b[49m\u001b[43mfold_groups\u001b[49m\u001b[43m \u001b[49m\u001b[38;5;241;43m=\u001b[39;49m\u001b[43m \u001b[49m\u001b[38;5;124;43m'\u001b[39;49m\u001b[38;5;124;43mfold\u001b[39;49m\u001b[38;5;124;43m'\u001b[39;49m\u001b[43m,\u001b[49m\u001b[43m \u001b[49m\u001b[43mfold\u001b[49m\u001b[43m \u001b[49m\u001b[38;5;241;43m=\u001b[39;49m\u001b[43m \u001b[49m\u001b[38;5;241;43m4\u001b[39;49m\u001b[43m,\u001b[49m\u001b[43m \u001b[49m\u001b[43msession_id\u001b[49m\u001b[43m \u001b[49m\u001b[38;5;241;43m=\u001b[39;49m\u001b[43m \u001b[49m\u001b[38;5;241;43m42\u001b[39;49m\u001b[43m,\u001b[49m\u001b[43m \u001b[49m\u001b[43mremove_outliers\u001b[49m\u001b[43m \u001b[49m\u001b[38;5;241;43m=\u001b[39;49m\u001b[43m \u001b[49m\u001b[38;5;28;43;01mTrue\u001b[39;49;00m\u001b[43m,\u001b[49m\u001b[43m \u001b[49m\u001b[43mverbose\u001b[49m\u001b[43m \u001b[49m\u001b[38;5;241;43m=\u001b[39;49m\u001b[43m \u001b[49m\u001b[38;5;28;43;01mFalse\u001b[39;49;00m\u001b[43m)\u001b[49m\n\u001b[1;32m     17\u001b[0m compare_models()\n",
      "File \u001b[0;32m/data/leuven/357/vsc35702/miniconda3/envs/ml_snow/lib/python3.9/site-packages/pycaret/regression/functional.py:593\u001b[0m, in \u001b[0;36msetup\u001b[0;34m(data, data_func, target, index, train_size, test_data, ordinal_features, numeric_features, categorical_features, date_features, text_features, ignore_features, keep_features, preprocess, create_date_columns, imputation_type, numeric_imputation, categorical_imputation, iterative_imputation_iters, numeric_iterative_imputer, categorical_iterative_imputer, text_features_method, max_encoding_ohe, encoding_method, rare_to_value, rare_value, polynomial_features, polynomial_degree, low_variance_threshold, group_features, drop_groups, remove_multicollinearity, multicollinearity_threshold, bin_numeric_features, remove_outliers, outliers_method, outliers_threshold, transformation, transformation_method, normalize, normalize_method, pca, pca_method, pca_components, feature_selection, feature_selection_method, feature_selection_estimator, n_features_to_select, transform_target, transform_target_method, custom_pipeline, custom_pipeline_position, data_split_shuffle, data_split_stratify, fold_strategy, fold, fold_shuffle, fold_groups, n_jobs, use_gpu, html, session_id, system_log, log_experiment, experiment_name, experiment_custom_tags, log_plots, log_profile, log_data, verbose, memory, profile, profile_kwargs)\u001b[0m\n\u001b[1;32m    591\u001b[0m exp \u001b[38;5;241m=\u001b[39m _EXPERIMENT_CLASS()\n\u001b[1;32m    592\u001b[0m set_current_experiment(exp)\n\u001b[0;32m--> 593\u001b[0m \u001b[38;5;28;01mreturn\u001b[39;00m \u001b[43mexp\u001b[49m\u001b[38;5;241;43m.\u001b[39;49m\u001b[43msetup\u001b[49m\u001b[43m(\u001b[49m\n\u001b[1;32m    594\u001b[0m \u001b[43m    \u001b[49m\u001b[43mdata\u001b[49m\u001b[38;5;241;43m=\u001b[39;49m\u001b[43mdata\u001b[49m\u001b[43m,\u001b[49m\n\u001b[1;32m    595\u001b[0m \u001b[43m    \u001b[49m\u001b[43mdata_func\u001b[49m\u001b[38;5;241;43m=\u001b[39;49m\u001b[43mdata_func\u001b[49m\u001b[43m,\u001b[49m\n\u001b[1;32m    596\u001b[0m \u001b[43m    \u001b[49m\u001b[43mtarget\u001b[49m\u001b[38;5;241;43m=\u001b[39;49m\u001b[43mtarget\u001b[49m\u001b[43m,\u001b[49m\n\u001b[1;32m    597\u001b[0m \u001b[43m    \u001b[49m\u001b[43mindex\u001b[49m\u001b[38;5;241;43m=\u001b[39;49m\u001b[43mindex\u001b[49m\u001b[43m,\u001b[49m\n\u001b[1;32m    598\u001b[0m \u001b[43m    \u001b[49m\u001b[43mtrain_size\u001b[49m\u001b[38;5;241;43m=\u001b[39;49m\u001b[43mtrain_size\u001b[49m\u001b[43m,\u001b[49m\n\u001b[1;32m    599\u001b[0m \u001b[43m    \u001b[49m\u001b[43mtest_data\u001b[49m\u001b[38;5;241;43m=\u001b[39;49m\u001b[43mtest_data\u001b[49m\u001b[43m,\u001b[49m\n\u001b[1;32m    600\u001b[0m \u001b[43m    \u001b[49m\u001b[43mordinal_features\u001b[49m\u001b[38;5;241;43m=\u001b[39;49m\u001b[43mordinal_features\u001b[49m\u001b[43m,\u001b[49m\n\u001b[1;32m    601\u001b[0m \u001b[43m    \u001b[49m\u001b[43mnumeric_features\u001b[49m\u001b[38;5;241;43m=\u001b[39;49m\u001b[43mnumeric_features\u001b[49m\u001b[43m,\u001b[49m\n\u001b[1;32m    602\u001b[0m \u001b[43m    \u001b[49m\u001b[43mcategorical_features\u001b[49m\u001b[38;5;241;43m=\u001b[39;49m\u001b[43mcategorical_features\u001b[49m\u001b[43m,\u001b[49m\n\u001b[1;32m    603\u001b[0m \u001b[43m    \u001b[49m\u001b[43mdate_features\u001b[49m\u001b[38;5;241;43m=\u001b[39;49m\u001b[43mdate_features\u001b[49m\u001b[43m,\u001b[49m\n\u001b[1;32m    604\u001b[0m \u001b[43m    \u001b[49m\u001b[43mtext_features\u001b[49m\u001b[38;5;241;43m=\u001b[39;49m\u001b[43mtext_features\u001b[49m\u001b[43m,\u001b[49m\n\u001b[1;32m    605\u001b[0m \u001b[43m    \u001b[49m\u001b[43mignore_features\u001b[49m\u001b[38;5;241;43m=\u001b[39;49m\u001b[43mignore_features\u001b[49m\u001b[43m,\u001b[49m\n\u001b[1;32m    606\u001b[0m \u001b[43m    \u001b[49m\u001b[43mkeep_features\u001b[49m\u001b[38;5;241;43m=\u001b[39;49m\u001b[43mkeep_features\u001b[49m\u001b[43m,\u001b[49m\n\u001b[1;32m    607\u001b[0m \u001b[43m    \u001b[49m\u001b[43mpreprocess\u001b[49m\u001b[38;5;241;43m=\u001b[39;49m\u001b[43mpreprocess\u001b[49m\u001b[43m,\u001b[49m\n\u001b[1;32m    608\u001b[0m \u001b[43m    \u001b[49m\u001b[43mcreate_date_columns\u001b[49m\u001b[38;5;241;43m=\u001b[39;49m\u001b[43mcreate_date_columns\u001b[49m\u001b[43m,\u001b[49m\n\u001b[1;32m    609\u001b[0m \u001b[43m    \u001b[49m\u001b[43mimputation_type\u001b[49m\u001b[38;5;241;43m=\u001b[39;49m\u001b[43mimputation_type\u001b[49m\u001b[43m,\u001b[49m\n\u001b[1;32m    610\u001b[0m \u001b[43m    \u001b[49m\u001b[43mnumeric_imputation\u001b[49m\u001b[38;5;241;43m=\u001b[39;49m\u001b[43mnumeric_imputation\u001b[49m\u001b[43m,\u001b[49m\n\u001b[1;32m    611\u001b[0m \u001b[43m    \u001b[49m\u001b[43mcategorical_imputation\u001b[49m\u001b[38;5;241;43m=\u001b[39;49m\u001b[43mcategorical_imputation\u001b[49m\u001b[43m,\u001b[49m\n\u001b[1;32m    612\u001b[0m \u001b[43m    \u001b[49m\u001b[43miterative_imputation_iters\u001b[49m\u001b[38;5;241;43m=\u001b[39;49m\u001b[43miterative_imputation_iters\u001b[49m\u001b[43m,\u001b[49m\n\u001b[1;32m    613\u001b[0m \u001b[43m    \u001b[49m\u001b[43mnumeric_iterative_imputer\u001b[49m\u001b[38;5;241;43m=\u001b[39;49m\u001b[43mnumeric_iterative_imputer\u001b[49m\u001b[43m,\u001b[49m\n\u001b[1;32m    614\u001b[0m \u001b[43m    \u001b[49m\u001b[43mcategorical_iterative_imputer\u001b[49m\u001b[38;5;241;43m=\u001b[39;49m\u001b[43mcategorical_iterative_imputer\u001b[49m\u001b[43m,\u001b[49m\n\u001b[1;32m    615\u001b[0m \u001b[43m    \u001b[49m\u001b[43mtext_features_method\u001b[49m\u001b[38;5;241;43m=\u001b[39;49m\u001b[43mtext_features_method\u001b[49m\u001b[43m,\u001b[49m\n\u001b[1;32m    616\u001b[0m \u001b[43m    \u001b[49m\u001b[43mmax_encoding_ohe\u001b[49m\u001b[38;5;241;43m=\u001b[39;49m\u001b[43mmax_encoding_ohe\u001b[49m\u001b[43m,\u001b[49m\n\u001b[1;32m    617\u001b[0m \u001b[43m    \u001b[49m\u001b[43mencoding_method\u001b[49m\u001b[38;5;241;43m=\u001b[39;49m\u001b[43mencoding_method\u001b[49m\u001b[43m,\u001b[49m\n\u001b[1;32m    618\u001b[0m \u001b[43m    \u001b[49m\u001b[43mrare_to_value\u001b[49m\u001b[38;5;241;43m=\u001b[39;49m\u001b[43mrare_to_value\u001b[49m\u001b[43m,\u001b[49m\n\u001b[1;32m    619\u001b[0m \u001b[43m    \u001b[49m\u001b[43mrare_value\u001b[49m\u001b[38;5;241;43m=\u001b[39;49m\u001b[43mrare_value\u001b[49m\u001b[43m,\u001b[49m\n\u001b[1;32m    620\u001b[0m \u001b[43m    \u001b[49m\u001b[43mpolynomial_features\u001b[49m\u001b[38;5;241;43m=\u001b[39;49m\u001b[43mpolynomial_features\u001b[49m\u001b[43m,\u001b[49m\n\u001b[1;32m    621\u001b[0m \u001b[43m    \u001b[49m\u001b[43mpolynomial_degree\u001b[49m\u001b[38;5;241;43m=\u001b[39;49m\u001b[43mpolynomial_degree\u001b[49m\u001b[43m,\u001b[49m\n\u001b[1;32m    622\u001b[0m \u001b[43m    \u001b[49m\u001b[43mlow_variance_threshold\u001b[49m\u001b[38;5;241;43m=\u001b[39;49m\u001b[43mlow_variance_threshold\u001b[49m\u001b[43m,\u001b[49m\n\u001b[1;32m    623\u001b[0m \u001b[43m    \u001b[49m\u001b[43mgroup_features\u001b[49m\u001b[38;5;241;43m=\u001b[39;49m\u001b[43mgroup_features\u001b[49m\u001b[43m,\u001b[49m\n\u001b[1;32m    624\u001b[0m \u001b[43m    \u001b[49m\u001b[43mdrop_groups\u001b[49m\u001b[38;5;241;43m=\u001b[39;49m\u001b[43mdrop_groups\u001b[49m\u001b[43m,\u001b[49m\n\u001b[1;32m    625\u001b[0m \u001b[43m    \u001b[49m\u001b[43mremove_multicollinearity\u001b[49m\u001b[38;5;241;43m=\u001b[39;49m\u001b[43mremove_multicollinearity\u001b[49m\u001b[43m,\u001b[49m\n\u001b[1;32m    626\u001b[0m \u001b[43m    \u001b[49m\u001b[43mmulticollinearity_threshold\u001b[49m\u001b[38;5;241;43m=\u001b[39;49m\u001b[43mmulticollinearity_threshold\u001b[49m\u001b[43m,\u001b[49m\n\u001b[1;32m    627\u001b[0m \u001b[43m    \u001b[49m\u001b[43mbin_numeric_features\u001b[49m\u001b[38;5;241;43m=\u001b[39;49m\u001b[43mbin_numeric_features\u001b[49m\u001b[43m,\u001b[49m\n\u001b[1;32m    628\u001b[0m \u001b[43m    \u001b[49m\u001b[43mremove_outliers\u001b[49m\u001b[38;5;241;43m=\u001b[39;49m\u001b[43mremove_outliers\u001b[49m\u001b[43m,\u001b[49m\n\u001b[1;32m    629\u001b[0m \u001b[43m    \u001b[49m\u001b[43moutliers_method\u001b[49m\u001b[38;5;241;43m=\u001b[39;49m\u001b[43moutliers_method\u001b[49m\u001b[43m,\u001b[49m\n\u001b[1;32m    630\u001b[0m \u001b[43m    \u001b[49m\u001b[43moutliers_threshold\u001b[49m\u001b[38;5;241;43m=\u001b[39;49m\u001b[43moutliers_threshold\u001b[49m\u001b[43m,\u001b[49m\n\u001b[1;32m    631\u001b[0m \u001b[43m    \u001b[49m\u001b[43mtransformation\u001b[49m\u001b[38;5;241;43m=\u001b[39;49m\u001b[43mtransformation\u001b[49m\u001b[43m,\u001b[49m\n\u001b[1;32m    632\u001b[0m \u001b[43m    \u001b[49m\u001b[43mtransformation_method\u001b[49m\u001b[38;5;241;43m=\u001b[39;49m\u001b[43mtransformation_method\u001b[49m\u001b[43m,\u001b[49m\n\u001b[1;32m    633\u001b[0m \u001b[43m    \u001b[49m\u001b[43mnormalize\u001b[49m\u001b[38;5;241;43m=\u001b[39;49m\u001b[43mnormalize\u001b[49m\u001b[43m,\u001b[49m\n\u001b[1;32m    634\u001b[0m \u001b[43m    \u001b[49m\u001b[43mnormalize_method\u001b[49m\u001b[38;5;241;43m=\u001b[39;49m\u001b[43mnormalize_method\u001b[49m\u001b[43m,\u001b[49m\n\u001b[1;32m    635\u001b[0m \u001b[43m    \u001b[49m\u001b[43mpca\u001b[49m\u001b[38;5;241;43m=\u001b[39;49m\u001b[43mpca\u001b[49m\u001b[43m,\u001b[49m\n\u001b[1;32m    636\u001b[0m \u001b[43m    \u001b[49m\u001b[43mpca_method\u001b[49m\u001b[38;5;241;43m=\u001b[39;49m\u001b[43mpca_method\u001b[49m\u001b[43m,\u001b[49m\n\u001b[1;32m    637\u001b[0m \u001b[43m    \u001b[49m\u001b[43mpca_components\u001b[49m\u001b[38;5;241;43m=\u001b[39;49m\u001b[43mpca_components\u001b[49m\u001b[43m,\u001b[49m\n\u001b[1;32m    638\u001b[0m \u001b[43m    \u001b[49m\u001b[43mfeature_selection\u001b[49m\u001b[38;5;241;43m=\u001b[39;49m\u001b[43mfeature_selection\u001b[49m\u001b[43m,\u001b[49m\n\u001b[1;32m    639\u001b[0m \u001b[43m    \u001b[49m\u001b[43mfeature_selection_method\u001b[49m\u001b[38;5;241;43m=\u001b[39;49m\u001b[43mfeature_selection_method\u001b[49m\u001b[43m,\u001b[49m\n\u001b[1;32m    640\u001b[0m \u001b[43m    \u001b[49m\u001b[43mfeature_selection_estimator\u001b[49m\u001b[38;5;241;43m=\u001b[39;49m\u001b[43mfeature_selection_estimator\u001b[49m\u001b[43m,\u001b[49m\n\u001b[1;32m    641\u001b[0m \u001b[43m    \u001b[49m\u001b[43mn_features_to_select\u001b[49m\u001b[38;5;241;43m=\u001b[39;49m\u001b[43mn_features_to_select\u001b[49m\u001b[43m,\u001b[49m\n\u001b[1;32m    642\u001b[0m \u001b[43m    \u001b[49m\u001b[43mtransform_target\u001b[49m\u001b[38;5;241;43m=\u001b[39;49m\u001b[43mtransform_target\u001b[49m\u001b[43m,\u001b[49m\n\u001b[1;32m    643\u001b[0m \u001b[43m    \u001b[49m\u001b[43mtransform_target_method\u001b[49m\u001b[38;5;241;43m=\u001b[39;49m\u001b[43mtransform_target_method\u001b[49m\u001b[43m,\u001b[49m\n\u001b[1;32m    644\u001b[0m \u001b[43m    \u001b[49m\u001b[43mcustom_pipeline\u001b[49m\u001b[38;5;241;43m=\u001b[39;49m\u001b[43mcustom_pipeline\u001b[49m\u001b[43m,\u001b[49m\n\u001b[1;32m    645\u001b[0m \u001b[43m    \u001b[49m\u001b[43mcustom_pipeline_position\u001b[49m\u001b[38;5;241;43m=\u001b[39;49m\u001b[43mcustom_pipeline_position\u001b[49m\u001b[43m,\u001b[49m\n\u001b[1;32m    646\u001b[0m \u001b[43m    \u001b[49m\u001b[43mdata_split_shuffle\u001b[49m\u001b[38;5;241;43m=\u001b[39;49m\u001b[43mdata_split_shuffle\u001b[49m\u001b[43m,\u001b[49m\n\u001b[1;32m    647\u001b[0m \u001b[43m    \u001b[49m\u001b[43mdata_split_stratify\u001b[49m\u001b[38;5;241;43m=\u001b[39;49m\u001b[43mdata_split_stratify\u001b[49m\u001b[43m,\u001b[49m\n\u001b[1;32m    648\u001b[0m \u001b[43m    \u001b[49m\u001b[43mfold_strategy\u001b[49m\u001b[38;5;241;43m=\u001b[39;49m\u001b[43mfold_strategy\u001b[49m\u001b[43m,\u001b[49m\n\u001b[1;32m    649\u001b[0m \u001b[43m    \u001b[49m\u001b[43mfold\u001b[49m\u001b[38;5;241;43m=\u001b[39;49m\u001b[43mfold\u001b[49m\u001b[43m,\u001b[49m\n\u001b[1;32m    650\u001b[0m \u001b[43m    \u001b[49m\u001b[43mfold_shuffle\u001b[49m\u001b[38;5;241;43m=\u001b[39;49m\u001b[43mfold_shuffle\u001b[49m\u001b[43m,\u001b[49m\n\u001b[1;32m    651\u001b[0m \u001b[43m    \u001b[49m\u001b[43mfold_groups\u001b[49m\u001b[38;5;241;43m=\u001b[39;49m\u001b[43mfold_groups\u001b[49m\u001b[43m,\u001b[49m\n\u001b[1;32m    652\u001b[0m \u001b[43m    \u001b[49m\u001b[43mn_jobs\u001b[49m\u001b[38;5;241;43m=\u001b[39;49m\u001b[43mn_jobs\u001b[49m\u001b[43m,\u001b[49m\n\u001b[1;32m    653\u001b[0m \u001b[43m    \u001b[49m\u001b[43muse_gpu\u001b[49m\u001b[38;5;241;43m=\u001b[39;49m\u001b[43muse_gpu\u001b[49m\u001b[43m,\u001b[49m\n\u001b[1;32m    654\u001b[0m \u001b[43m    \u001b[49m\u001b[43mhtml\u001b[49m\u001b[38;5;241;43m=\u001b[39;49m\u001b[43mhtml\u001b[49m\u001b[43m,\u001b[49m\n\u001b[1;32m    655\u001b[0m \u001b[43m    \u001b[49m\u001b[43msession_id\u001b[49m\u001b[38;5;241;43m=\u001b[39;49m\u001b[43msession_id\u001b[49m\u001b[43m,\u001b[49m\n\u001b[1;32m    656\u001b[0m \u001b[43m    \u001b[49m\u001b[43msystem_log\u001b[49m\u001b[38;5;241;43m=\u001b[39;49m\u001b[43msystem_log\u001b[49m\u001b[43m,\u001b[49m\n\u001b[1;32m    657\u001b[0m \u001b[43m    \u001b[49m\u001b[43mlog_experiment\u001b[49m\u001b[38;5;241;43m=\u001b[39;49m\u001b[43mlog_experiment\u001b[49m\u001b[43m,\u001b[49m\n\u001b[1;32m    658\u001b[0m \u001b[43m    \u001b[49m\u001b[43mexperiment_name\u001b[49m\u001b[38;5;241;43m=\u001b[39;49m\u001b[43mexperiment_name\u001b[49m\u001b[43m,\u001b[49m\n\u001b[1;32m    659\u001b[0m \u001b[43m    \u001b[49m\u001b[43mexperiment_custom_tags\u001b[49m\u001b[38;5;241;43m=\u001b[39;49m\u001b[43mexperiment_custom_tags\u001b[49m\u001b[43m,\u001b[49m\n\u001b[1;32m    660\u001b[0m \u001b[43m    \u001b[49m\u001b[43mlog_plots\u001b[49m\u001b[38;5;241;43m=\u001b[39;49m\u001b[43mlog_plots\u001b[49m\u001b[43m,\u001b[49m\n\u001b[1;32m    661\u001b[0m \u001b[43m    \u001b[49m\u001b[43mlog_profile\u001b[49m\u001b[38;5;241;43m=\u001b[39;49m\u001b[43mlog_profile\u001b[49m\u001b[43m,\u001b[49m\n\u001b[1;32m    662\u001b[0m \u001b[43m    \u001b[49m\u001b[43mlog_data\u001b[49m\u001b[38;5;241;43m=\u001b[39;49m\u001b[43mlog_data\u001b[49m\u001b[43m,\u001b[49m\n\u001b[1;32m    663\u001b[0m \u001b[43m    \u001b[49m\u001b[43mverbose\u001b[49m\u001b[38;5;241;43m=\u001b[39;49m\u001b[43mverbose\u001b[49m\u001b[43m,\u001b[49m\n\u001b[1;32m    664\u001b[0m \u001b[43m    \u001b[49m\u001b[43mmemory\u001b[49m\u001b[38;5;241;43m=\u001b[39;49m\u001b[43mmemory\u001b[49m\u001b[43m,\u001b[49m\n\u001b[1;32m    665\u001b[0m \u001b[43m    \u001b[49m\u001b[43mprofile\u001b[49m\u001b[38;5;241;43m=\u001b[39;49m\u001b[43mprofile\u001b[49m\u001b[43m,\u001b[49m\n\u001b[1;32m    666\u001b[0m \u001b[43m    \u001b[49m\u001b[43mprofile_kwargs\u001b[49m\u001b[38;5;241;43m=\u001b[39;49m\u001b[43mprofile_kwargs\u001b[49m\u001b[43m,\u001b[49m\n\u001b[1;32m    667\u001b[0m \u001b[43m\u001b[49m\u001b[43m)\u001b[49m\n",
      "File \u001b[0;32m/data/leuven/357/vsc35702/miniconda3/envs/ml_snow/lib/python3.9/site-packages/pycaret/regression/oop.py:742\u001b[0m, in \u001b[0;36mRegressionExperiment.setup\u001b[0;34m(self, data, data_func, target, index, train_size, test_data, ordinal_features, numeric_features, categorical_features, date_features, text_features, ignore_features, keep_features, preprocess, create_date_columns, imputation_type, numeric_imputation, categorical_imputation, iterative_imputation_iters, numeric_iterative_imputer, categorical_iterative_imputer, text_features_method, max_encoding_ohe, encoding_method, rare_to_value, rare_value, polynomial_features, polynomial_degree, low_variance_threshold, group_features, drop_groups, remove_multicollinearity, multicollinearity_threshold, bin_numeric_features, remove_outliers, outliers_method, outliers_threshold, transformation, transformation_method, normalize, normalize_method, pca, pca_method, pca_components, feature_selection, feature_selection_method, feature_selection_estimator, n_features_to_select, transform_target, transform_target_method, custom_pipeline, custom_pipeline_position, data_split_shuffle, data_split_stratify, fold_strategy, fold, fold_shuffle, fold_groups, n_jobs, use_gpu, html, session_id, system_log, log_experiment, experiment_name, experiment_custom_tags, log_plots, log_profile, log_data, engine, verbose, memory, profile, profile_kwargs)\u001b[0m\n\u001b[1;32m    725\u001b[0m \u001b[38;5;28mself\u001b[39m\u001b[38;5;241m.\u001b[39m_prepare_train_test(\n\u001b[1;32m    726\u001b[0m     train_size\u001b[38;5;241m=\u001b[39mtrain_size,\n\u001b[1;32m    727\u001b[0m     test_data\u001b[38;5;241m=\u001b[39mtest_data,\n\u001b[1;32m    728\u001b[0m     data_split_stratify\u001b[38;5;241m=\u001b[39mdata_split_stratify,\n\u001b[1;32m    729\u001b[0m     data_split_shuffle\u001b[38;5;241m=\u001b[39mdata_split_shuffle,\n\u001b[1;32m    730\u001b[0m )\n\u001b[1;32m    732\u001b[0m \u001b[38;5;28mself\u001b[39m\u001b[38;5;241m.\u001b[39m_prepare_column_types(\n\u001b[1;32m    733\u001b[0m     ordinal_features\u001b[38;5;241m=\u001b[39mordinal_features,\n\u001b[1;32m    734\u001b[0m     numeric_features\u001b[38;5;241m=\u001b[39mnumeric_features,\n\u001b[0;32m   (...)\u001b[0m\n\u001b[1;32m    739\u001b[0m     keep_features\u001b[38;5;241m=\u001b[39mkeep_features,\n\u001b[1;32m    740\u001b[0m )\n\u001b[0;32m--> 742\u001b[0m \u001b[38;5;28;43mself\u001b[39;49m\u001b[38;5;241;43m.\u001b[39;49m\u001b[43m_set_exp_model_engines\u001b[49m\u001b[43m(\u001b[49m\n\u001b[1;32m    743\u001b[0m \u001b[43m    \u001b[49m\u001b[43mcontainer_default_engines\u001b[49m\u001b[38;5;241;43m=\u001b[39;49m\u001b[43mget_container_default_engines\u001b[49m\u001b[43m(\u001b[49m\u001b[43m)\u001b[49m\u001b[43m,\u001b[49m\n\u001b[1;32m    744\u001b[0m \u001b[43m    \u001b[49m\u001b[43mengine\u001b[49m\u001b[38;5;241;43m=\u001b[39;49m\u001b[43mengine\u001b[49m\u001b[43m,\u001b[49m\n\u001b[1;32m    745\u001b[0m \u001b[43m\u001b[49m\u001b[43m)\u001b[49m\n\u001b[1;32m    747\u001b[0m \u001b[38;5;66;03m# Preprocessing ============================================ >>\u001b[39;00m\n\u001b[1;32m    748\u001b[0m \n\u001b[1;32m    749\u001b[0m \u001b[38;5;66;03m# Initialize empty pipeline\u001b[39;00m\n\u001b[1;32m    750\u001b[0m \u001b[38;5;28mself\u001b[39m\u001b[38;5;241m.\u001b[39mpipeline \u001b[38;5;241m=\u001b[39m InternalPipeline(\n\u001b[1;32m    751\u001b[0m     steps\u001b[38;5;241m=\u001b[39m[(\u001b[38;5;124m\"\u001b[39m\u001b[38;5;124mplaceholder\u001b[39m\u001b[38;5;124m\"\u001b[39m, \u001b[38;5;28;01mNone\u001b[39;00m)],\n\u001b[1;32m    752\u001b[0m     memory\u001b[38;5;241m=\u001b[39m\u001b[38;5;28mself\u001b[39m\u001b[38;5;241m.\u001b[39mmemory,\n\u001b[1;32m    753\u001b[0m )\n",
      "File \u001b[0;32m/data/leuven/357/vsc35702/miniconda3/envs/ml_snow/lib/python3.9/site-packages/pycaret/internal/pycaret_experiment/tabular_experiment.py:2844\u001b[0m, in \u001b[0;36m_TabularExperiment._set_exp_model_engines\u001b[0;34m(self, container_default_engines, engine)\u001b[0m\n\u001b[1;32m   2841\u001b[0m \u001b[38;5;28;01mfor\u001b[39;00m key \u001b[38;5;129;01min\u001b[39;00m container_default_engines:\n\u001b[1;32m   2842\u001b[0m     \u001b[38;5;66;03m# If provided by user, then use that, else get from the defaults\u001b[39;00m\n\u001b[1;32m   2843\u001b[0m     eng \u001b[38;5;241m=\u001b[39m engine\u001b[38;5;241m.\u001b[39mget(key, container_default_engines\u001b[38;5;241m.\u001b[39mget(key))\n\u001b[0;32m-> 2844\u001b[0m     \u001b[38;5;28;43mself\u001b[39;49m\u001b[38;5;241;43m.\u001b[39;49m\u001b[43m_set_engine\u001b[49m\u001b[43m(\u001b[49m\u001b[43mestimator\u001b[49m\u001b[38;5;241;43m=\u001b[39;49m\u001b[43mkey\u001b[49m\u001b[43m,\u001b[49m\u001b[43m \u001b[49m\u001b[43mengine\u001b[49m\u001b[38;5;241;43m=\u001b[39;49m\u001b[43meng\u001b[49m\u001b[43m,\u001b[49m\u001b[43m \u001b[49m\u001b[43mseverity\u001b[49m\u001b[38;5;241;43m=\u001b[39;49m\u001b[38;5;124;43m\"\u001b[39;49m\u001b[38;5;124;43merror\u001b[39;49m\u001b[38;5;124;43m\"\u001b[39;49m\u001b[43m)\u001b[49m\n\u001b[1;32m   2846\u001b[0m \u001b[38;5;28;01mreturn\u001b[39;00m \u001b[38;5;28mself\u001b[39m\n",
      "File \u001b[0;32m/data/leuven/357/vsc35702/miniconda3/envs/ml_snow/lib/python3.9/site-packages/pycaret/internal/pycaret_experiment/tabular_experiment.py:2810\u001b[0m, in \u001b[0;36m_TabularExperiment._set_engine\u001b[0;34m(self, estimator, engine, severity)\u001b[0m\n\u001b[1;32m   2805\u001b[0m     \u001b[38;5;28mself\u001b[39m\u001b[38;5;241m.\u001b[39mlogger\u001b[38;5;241m.\u001b[39minfo(\n\u001b[1;32m   2806\u001b[0m         \u001b[38;5;124mf\u001b[39m\u001b[38;5;124m\"\u001b[39m\u001b[38;5;124mEngine successfully changes for model \u001b[39m\u001b[38;5;124m'\u001b[39m\u001b[38;5;132;01m{\u001b[39;00mestimator\u001b[38;5;132;01m}\u001b[39;00m\u001b[38;5;124m'\u001b[39m\u001b[38;5;124m to \u001b[39m\u001b[38;5;124m'\u001b[39m\u001b[38;5;132;01m{\u001b[39;00mengine\u001b[38;5;132;01m}\u001b[39;00m\u001b[38;5;124m'\u001b[39m\u001b[38;5;124m.\u001b[39m\u001b[38;5;124m\"\u001b[39m\n\u001b[1;32m   2807\u001b[0m     )\n\u001b[1;32m   2809\u001b[0m \u001b[38;5;66;03m# Need to do this, else internal class variables are not reset with new engine.\u001b[39;00m\n\u001b[0;32m-> 2810\u001b[0m \u001b[38;5;28;43mself\u001b[39;49m\u001b[38;5;241;43m.\u001b[39;49m\u001b[43m_set_all_models\u001b[49m\u001b[43m(\u001b[49m\u001b[43m)\u001b[49m\n",
      "File \u001b[0;32m/data/leuven/357/vsc35702/miniconda3/envs/ml_snow/lib/python3.9/site-packages/pycaret/internal/pycaret_experiment/tabular_experiment.py:2700\u001b[0m, in \u001b[0;36m_TabularExperiment._set_all_models\u001b[0;34m(self)\u001b[0m\n\u001b[1;32m   2692\u001b[0m \u001b[38;5;28;01mdef\u001b[39;00m \u001b[38;5;21m_set_all_models\u001b[39m(\u001b[38;5;28mself\u001b[39m) \u001b[38;5;241m-\u001b[39m\u001b[38;5;241m>\u001b[39m \u001b[38;5;124m\"\u001b[39m\u001b[38;5;124m_TabularExperiment\u001b[39m\u001b[38;5;124m\"\u001b[39m:\n\u001b[1;32m   2693\u001b[0m \u001b[38;5;250m    \u001b[39m\u001b[38;5;124;03m\"\"\"Set all available models\u001b[39;00m\n\u001b[1;32m   2694\u001b[0m \n\u001b[1;32m   2695\u001b[0m \u001b[38;5;124;03m    Returns\u001b[39;00m\n\u001b[0;32m   (...)\u001b[0m\n\u001b[1;32m   2698\u001b[0m \u001b[38;5;124;03m        The experiment object to allow chaining of methods\u001b[39;00m\n\u001b[1;32m   2699\u001b[0m \u001b[38;5;124;03m    \"\"\"\u001b[39;00m\n\u001b[0;32m-> 2700\u001b[0m     \u001b[38;5;28mself\u001b[39m\u001b[38;5;241m.\u001b[39m_all_models, \u001b[38;5;28mself\u001b[39m\u001b[38;5;241m.\u001b[39m_all_models_internal \u001b[38;5;241m=\u001b[39m \u001b[38;5;28;43mself\u001b[39;49m\u001b[38;5;241;43m.\u001b[39;49m\u001b[43m_get_models\u001b[49m\u001b[43m(\u001b[49m\u001b[43m)\u001b[49m\n\u001b[1;32m   2701\u001b[0m     \u001b[38;5;28;01mreturn\u001b[39;00m \u001b[38;5;28mself\u001b[39m\n",
      "File \u001b[0;32m/data/leuven/357/vsc35702/miniconda3/envs/ml_snow/lib/python3.9/site-packages/pycaret/regression/oop.py:67\u001b[0m, in \u001b[0;36mRegressionExperiment._get_models\u001b[0;34m(self, raise_errors)\u001b[0m\n\u001b[1;32m     59\u001b[0m \u001b[38;5;28;01mdef\u001b[39;00m \u001b[38;5;21m_get_models\u001b[39m(\u001b[38;5;28mself\u001b[39m, raise_errors: \u001b[38;5;28mbool\u001b[39m \u001b[38;5;241m=\u001b[39m \u001b[38;5;28;01mTrue\u001b[39;00m) \u001b[38;5;241m-\u001b[39m\u001b[38;5;241m>\u001b[39m Tuple[\u001b[38;5;28mdict\u001b[39m, \u001b[38;5;28mdict\u001b[39m]:\n\u001b[1;32m     60\u001b[0m     all_models \u001b[38;5;241m=\u001b[39m {\n\u001b[1;32m     61\u001b[0m         k: v\n\u001b[1;32m     62\u001b[0m         \u001b[38;5;28;01mfor\u001b[39;00m k, v \u001b[38;5;129;01min\u001b[39;00m get_all_model_containers(\n\u001b[0;32m   (...)\u001b[0m\n\u001b[1;32m     65\u001b[0m         \u001b[38;5;28;01mif\u001b[39;00m \u001b[38;5;129;01mnot\u001b[39;00m v\u001b[38;5;241m.\u001b[39mis_special\n\u001b[1;32m     66\u001b[0m     }\n\u001b[0;32m---> 67\u001b[0m     all_models_internal \u001b[38;5;241m=\u001b[39m \u001b[43mget_all_model_containers\u001b[49m\u001b[43m(\u001b[49m\u001b[38;5;28;43mself\u001b[39;49m\u001b[43m,\u001b[49m\u001b[43m \u001b[49m\u001b[43mraise_errors\u001b[49m\u001b[38;5;241;43m=\u001b[39;49m\u001b[43mraise_errors\u001b[49m\u001b[43m)\u001b[49m\n\u001b[1;32m     68\u001b[0m     \u001b[38;5;28;01mreturn\u001b[39;00m all_models, all_models_internal\n",
      "File \u001b[0;32m/data/leuven/357/vsc35702/miniconda3/envs/ml_snow/lib/python3.9/site-packages/pycaret/containers/models/regression.py:1989\u001b[0m, in \u001b[0;36mget_all_model_containers\u001b[0;34m(experiment, raise_errors)\u001b[0m\n\u001b[1;32m   1986\u001b[0m \u001b[38;5;28;01mdef\u001b[39;00m \u001b[38;5;21mget_all_model_containers\u001b[39m(\n\u001b[1;32m   1987\u001b[0m     experiment: Any, raise_errors: \u001b[38;5;28mbool\u001b[39m \u001b[38;5;241m=\u001b[39m \u001b[38;5;28;01mTrue\u001b[39;00m\n\u001b[1;32m   1988\u001b[0m ) \u001b[38;5;241m-\u001b[39m\u001b[38;5;241m>\u001b[39m Dict[\u001b[38;5;28mstr\u001b[39m, RegressorContainer]:\n\u001b[0;32m-> 1989\u001b[0m     \u001b[38;5;28;01mreturn\u001b[39;00m \u001b[43mpycaret\u001b[49m\u001b[38;5;241;43m.\u001b[39;49m\u001b[43mcontainers\u001b[49m\u001b[38;5;241;43m.\u001b[39;49m\u001b[43mbase_container\u001b[49m\u001b[38;5;241;43m.\u001b[39;49m\u001b[43mget_all_containers\u001b[49m\u001b[43m(\u001b[49m\n\u001b[1;32m   1990\u001b[0m \u001b[43m        \u001b[49m\u001b[38;5;28;43mglobals\u001b[39;49m\u001b[43m(\u001b[49m\u001b[43m)\u001b[49m\u001b[43m,\u001b[49m\u001b[43m \u001b[49m\u001b[43mexperiment\u001b[49m\u001b[43m,\u001b[49m\u001b[43m \u001b[49m\u001b[43mRegressorContainer\u001b[49m\u001b[43m,\u001b[49m\u001b[43m \u001b[49m\u001b[43mraise_errors\u001b[49m\n\u001b[1;32m   1991\u001b[0m \u001b[43m    \u001b[49m\u001b[43m)\u001b[49m\n",
      "File \u001b[0;32m/data/leuven/357/vsc35702/miniconda3/envs/ml_snow/lib/python3.9/site-packages/pycaret/containers/base_container.py:119\u001b[0m, in \u001b[0;36mget_all_containers\u001b[0;34m(container_globals, experiment, type_var, raise_errors)\u001b[0m\n\u001b[1;32m    117\u001b[0m \u001b[38;5;28;01mif\u001b[39;00m \u001b[38;5;28mhasattr\u001b[39m(obj, \u001b[38;5;124m\"\u001b[39m\u001b[38;5;124mactive\u001b[39m\u001b[38;5;124m\"\u001b[39m) \u001b[38;5;129;01mand\u001b[39;00m \u001b[38;5;129;01mnot\u001b[39;00m obj\u001b[38;5;241m.\u001b[39mactive:\n\u001b[1;32m    118\u001b[0m     \u001b[38;5;28;01mcontinue\u001b[39;00m\n\u001b[0;32m--> 119\u001b[0m instance \u001b[38;5;241m=\u001b[39m \u001b[43mobj\u001b[49m\u001b[43m(\u001b[49m\u001b[43mexperiment\u001b[49m\u001b[43m)\u001b[49m\n\u001b[1;32m    120\u001b[0m \u001b[38;5;28;01mif\u001b[39;00m instance\u001b[38;5;241m.\u001b[39mactive:\n\u001b[1;32m    121\u001b[0m     model_containers\u001b[38;5;241m.\u001b[39mappend(instance)\n",
      "File \u001b[0;32m/data/leuven/357/vsc35702/miniconda3/envs/ml_snow/lib/python3.9/site-packages/pycaret/containers/models/regression.py:573\u001b[0m, in \u001b[0;36mOrthogonalMatchingPursuitContainer.__init__\u001b[0;34m(self, experiment)\u001b[0m\n\u001b[1;32m    566\u001b[0m tune_args \u001b[38;5;241m=\u001b[39m {}\n\u001b[1;32m    567\u001b[0m tune_grid \u001b[38;5;241m=\u001b[39m {\n\u001b[1;32m    568\u001b[0m     \u001b[38;5;124m\"\u001b[39m\u001b[38;5;124mn_nonzero_coefs\u001b[39m\u001b[38;5;124m\"\u001b[39m: \u001b[38;5;28mrange\u001b[39m(\u001b[38;5;241m1\u001b[39m, \u001b[38;5;28mlen\u001b[39m(experiment\u001b[38;5;241m.\u001b[39mX_train\u001b[38;5;241m.\u001b[39mcolumns) \u001b[38;5;241m+\u001b[39m \u001b[38;5;241m1\u001b[39m),\n\u001b[1;32m    569\u001b[0m     \u001b[38;5;124m\"\u001b[39m\u001b[38;5;124mfit_intercept\u001b[39m\u001b[38;5;124m\"\u001b[39m: [\u001b[38;5;28;01mTrue\u001b[39;00m, \u001b[38;5;28;01mFalse\u001b[39;00m],\n\u001b[1;32m    570\u001b[0m }\n\u001b[1;32m    571\u001b[0m tune_distributions \u001b[38;5;241m=\u001b[39m {\n\u001b[1;32m    572\u001b[0m     \u001b[38;5;124m\"\u001b[39m\u001b[38;5;124mn_nonzero_coefs\u001b[39m\u001b[38;5;124m\"\u001b[39m: IntUniformDistribution(\n\u001b[0;32m--> 573\u001b[0m         \u001b[38;5;241m1\u001b[39m, \u001b[38;5;28mlen\u001b[39m(\u001b[43mexperiment\u001b[49m\u001b[38;5;241;43m.\u001b[39;49m\u001b[43mX_train\u001b[49m\u001b[38;5;241m.\u001b[39mcolumns)\n\u001b[1;32m    574\u001b[0m     )\n\u001b[1;32m    575\u001b[0m }\n\u001b[1;32m    577\u001b[0m leftover_parameters_to_categorical_distributions(tune_grid, tune_distributions)\n\u001b[1;32m    579\u001b[0m \u001b[38;5;28msuper\u001b[39m()\u001b[38;5;241m.\u001b[39m\u001b[38;5;21m__init__\u001b[39m(\n\u001b[1;32m    580\u001b[0m     \u001b[38;5;28mid\u001b[39m\u001b[38;5;241m=\u001b[39m\u001b[38;5;124m\"\u001b[39m\u001b[38;5;124momp\u001b[39m\u001b[38;5;124m\"\u001b[39m,\n\u001b[1;32m    581\u001b[0m     name\u001b[38;5;241m=\u001b[39m\u001b[38;5;124m\"\u001b[39m\u001b[38;5;124mOrthogonal Matching Pursuit\u001b[39m\u001b[38;5;124m\"\u001b[39m,\n\u001b[0;32m   (...)\u001b[0m\n\u001b[1;32m    587\u001b[0m     shap\u001b[38;5;241m=\u001b[39m\u001b[38;5;28;01mFalse\u001b[39;00m,\n\u001b[1;32m    588\u001b[0m )\n",
      "File \u001b[0;32m/data/leuven/357/vsc35702/miniconda3/envs/ml_snow/lib/python3.9/site-packages/pycaret/internal/pycaret_experiment/non_ts_supervised_experiment.py:25\u001b[0m, in \u001b[0;36m_NonTSSupervisedExperiment.X_train\u001b[0;34m(self)\u001b[0m\n\u001b[1;32m     22\u001b[0m \u001b[38;5;129m@property\u001b[39m\n\u001b[1;32m     23\u001b[0m \u001b[38;5;28;01mdef\u001b[39;00m \u001b[38;5;21mX_train\u001b[39m(\u001b[38;5;28mself\u001b[39m):\n\u001b[1;32m     24\u001b[0m \u001b[38;5;250m    \u001b[39m\u001b[38;5;124;03m\"\"\"Feature set of the training set.\"\"\"\u001b[39;00m\n\u001b[0;32m---> 25\u001b[0m     \u001b[38;5;28;01mreturn\u001b[39;00m \u001b[38;5;28;43mself\u001b[39;49m\u001b[38;5;241;43m.\u001b[39;49m\u001b[43mtrain\u001b[49m\u001b[38;5;241m.\u001b[39mdrop(\u001b[38;5;28mself\u001b[39m\u001b[38;5;241m.\u001b[39mtarget_param, axis\u001b[38;5;241m=\u001b[39m\u001b[38;5;241m1\u001b[39m)\n",
      "File \u001b[0;32m/data/leuven/357/vsc35702/miniconda3/envs/ml_snow/lib/python3.9/site-packages/pycaret/internal/pycaret_experiment/supervised_experiment.py:5768\u001b[0m, in \u001b[0;36m_SupervisedExperiment.train\u001b[0;34m(self)\u001b[0m\n\u001b[1;32m   5765\u001b[0m \u001b[38;5;129m@property\u001b[39m\n\u001b[1;32m   5766\u001b[0m \u001b[38;5;28;01mdef\u001b[39;00m \u001b[38;5;21mtrain\u001b[39m(\u001b[38;5;28mself\u001b[39m):\n\u001b[1;32m   5767\u001b[0m \u001b[38;5;250m    \u001b[39m\u001b[38;5;124;03m\"\"\"Training set.\"\"\"\u001b[39;00m\n\u001b[0;32m-> 5768\u001b[0m     \u001b[38;5;28;01mreturn\u001b[39;00m \u001b[38;5;28;43mself\u001b[39;49m\u001b[38;5;241;43m.\u001b[39;49m\u001b[43mdataset\u001b[49m\u001b[38;5;241m.\u001b[39mloc[\u001b[38;5;28mself\u001b[39m\u001b[38;5;241m.\u001b[39midx[\u001b[38;5;241m0\u001b[39m], :]\n",
      "File \u001b[0;32m/data/leuven/357/vsc35702/miniconda3/envs/ml_snow/lib/python3.9/site-packages/pycaret/internal/pycaret_experiment/pycaret_experiment.py:557\u001b[0m, in \u001b[0;36m_PyCaretExperiment.dataset\u001b[0;34m(self)\u001b[0m\n\u001b[1;32m    554\u001b[0m \u001b[38;5;129m@property\u001b[39m\n\u001b[1;32m    555\u001b[0m \u001b[38;5;28;01mdef\u001b[39;00m \u001b[38;5;21mdataset\u001b[39m(\u001b[38;5;28mself\u001b[39m):\n\u001b[1;32m    556\u001b[0m \u001b[38;5;250m    \u001b[39m\u001b[38;5;124;03m\"\"\"Complete dataset without ignored columns.\"\"\"\u001b[39;00m\n\u001b[0;32m--> 557\u001b[0m     \u001b[38;5;28;01mreturn\u001b[39;00m \u001b[38;5;28;43mself\u001b[39;49m\u001b[38;5;241;43m.\u001b[39;49m\u001b[43mdata\u001b[49m\u001b[43m[\u001b[49m\u001b[43m[\u001b[49m\u001b[43mc\u001b[49m\u001b[43m \u001b[49m\u001b[38;5;28;43;01mfor\u001b[39;49;00m\u001b[43m \u001b[49m\u001b[43mc\u001b[49m\u001b[43m \u001b[49m\u001b[38;5;129;43;01min\u001b[39;49;00m\u001b[43m \u001b[49m\u001b[38;5;28;43mself\u001b[39;49m\u001b[38;5;241;43m.\u001b[39;49m\u001b[43mdata\u001b[49m\u001b[38;5;241;43m.\u001b[39;49m\u001b[43mcolumns\u001b[49m\u001b[43m \u001b[49m\u001b[38;5;28;43;01mif\u001b[39;49;00m\u001b[43m \u001b[49m\u001b[43mc\u001b[49m\u001b[43m \u001b[49m\u001b[38;5;129;43;01mnot\u001b[39;49;00m\u001b[43m \u001b[49m\u001b[38;5;129;43;01min\u001b[39;49;00m\u001b[43m \u001b[49m\u001b[38;5;28;43mself\u001b[39;49m\u001b[38;5;241;43m.\u001b[39;49m\u001b[43m_fxs\u001b[49m\u001b[43m[\u001b[49m\u001b[38;5;124;43m\"\u001b[39;49m\u001b[38;5;124;43mIgnore\u001b[39;49m\u001b[38;5;124;43m\"\u001b[39;49m\u001b[43m]\u001b[49m\u001b[43m]\u001b[49m\u001b[43m]\u001b[49m\n",
      "File \u001b[0;32m/data/leuven/357/vsc35702/miniconda3/envs/ml_snow/lib/python3.9/site-packages/pandas/core/frame.py:3819\u001b[0m, in \u001b[0;36mDataFrame.__getitem__\u001b[0;34m(self, key)\u001b[0m\n\u001b[1;32m   3816\u001b[0m \u001b[38;5;28;01mif\u001b[39;00m \u001b[38;5;28mgetattr\u001b[39m(indexer, \u001b[38;5;124m\"\u001b[39m\u001b[38;5;124mdtype\u001b[39m\u001b[38;5;124m\"\u001b[39m, \u001b[38;5;28;01mNone\u001b[39;00m) \u001b[38;5;241m==\u001b[39m \u001b[38;5;28mbool\u001b[39m:\n\u001b[1;32m   3817\u001b[0m     indexer \u001b[38;5;241m=\u001b[39m np\u001b[38;5;241m.\u001b[39mwhere(indexer)[\u001b[38;5;241m0\u001b[39m]\n\u001b[0;32m-> 3819\u001b[0m data \u001b[38;5;241m=\u001b[39m \u001b[38;5;28;43mself\u001b[39;49m\u001b[38;5;241;43m.\u001b[39;49m\u001b[43m_take_with_is_copy\u001b[49m\u001b[43m(\u001b[49m\u001b[43mindexer\u001b[49m\u001b[43m,\u001b[49m\u001b[43m \u001b[49m\u001b[43maxis\u001b[49m\u001b[38;5;241;43m=\u001b[39;49m\u001b[38;5;241;43m1\u001b[39;49m\u001b[43m)\u001b[49m\n\u001b[1;32m   3821\u001b[0m \u001b[38;5;28;01mif\u001b[39;00m is_single_key:\n\u001b[1;32m   3822\u001b[0m     \u001b[38;5;66;03m# What does looking for a single key in a non-unique index return?\u001b[39;00m\n\u001b[1;32m   3823\u001b[0m     \u001b[38;5;66;03m# The behavior is inconsistent. It returns a Series, except when\u001b[39;00m\n\u001b[1;32m   3824\u001b[0m     \u001b[38;5;66;03m# - the key itself is repeated (test on data.shape, #9519), or\u001b[39;00m\n\u001b[1;32m   3825\u001b[0m     \u001b[38;5;66;03m# - we have a MultiIndex on columns (test on self.columns, #21309)\u001b[39;00m\n\u001b[1;32m   3826\u001b[0m     \u001b[38;5;28;01mif\u001b[39;00m data\u001b[38;5;241m.\u001b[39mshape[\u001b[38;5;241m1\u001b[39m] \u001b[38;5;241m==\u001b[39m \u001b[38;5;241m1\u001b[39m \u001b[38;5;129;01mand\u001b[39;00m \u001b[38;5;129;01mnot\u001b[39;00m \u001b[38;5;28misinstance\u001b[39m(\u001b[38;5;28mself\u001b[39m\u001b[38;5;241m.\u001b[39mcolumns, MultiIndex):\n\u001b[1;32m   3827\u001b[0m         \u001b[38;5;66;03m# GH#26490 using data[key] can cause RecursionError\u001b[39;00m\n",
      "File \u001b[0;32m/data/leuven/357/vsc35702/miniconda3/envs/ml_snow/lib/python3.9/site-packages/pandas/core/generic.py:3902\u001b[0m, in \u001b[0;36mNDFrame._take_with_is_copy\u001b[0;34m(self, indices, axis)\u001b[0m\n\u001b[1;32m   3894\u001b[0m \u001b[38;5;28;01mdef\u001b[39;00m \u001b[38;5;21m_take_with_is_copy\u001b[39m(\u001b[38;5;28mself\u001b[39m: NDFrameT, indices, axis\u001b[38;5;241m=\u001b[39m\u001b[38;5;241m0\u001b[39m) \u001b[38;5;241m-\u001b[39m\u001b[38;5;241m>\u001b[39m NDFrameT:\n\u001b[1;32m   3895\u001b[0m \u001b[38;5;250m    \u001b[39m\u001b[38;5;124;03m\"\"\"\u001b[39;00m\n\u001b[1;32m   3896\u001b[0m \u001b[38;5;124;03m    Internal version of the `take` method that sets the `_is_copy`\u001b[39;00m\n\u001b[1;32m   3897\u001b[0m \u001b[38;5;124;03m    attribute to keep track of the parent dataframe (using in indexing\u001b[39;00m\n\u001b[0;32m   (...)\u001b[0m\n\u001b[1;32m   3900\u001b[0m \u001b[38;5;124;03m    See the docstring of `take` for full explanation of the parameters.\u001b[39;00m\n\u001b[1;32m   3901\u001b[0m \u001b[38;5;124;03m    \"\"\"\u001b[39;00m\n\u001b[0;32m-> 3902\u001b[0m     result \u001b[38;5;241m=\u001b[39m \u001b[38;5;28;43mself\u001b[39;49m\u001b[38;5;241;43m.\u001b[39;49m\u001b[43m_take\u001b[49m\u001b[43m(\u001b[49m\u001b[43mindices\u001b[49m\u001b[38;5;241;43m=\u001b[39;49m\u001b[43mindices\u001b[49m\u001b[43m,\u001b[49m\u001b[43m \u001b[49m\u001b[43maxis\u001b[49m\u001b[38;5;241;43m=\u001b[39;49m\u001b[43maxis\u001b[49m\u001b[43m)\u001b[49m\n\u001b[1;32m   3903\u001b[0m     \u001b[38;5;66;03m# Maybe set copy if we didn't actually change the index.\u001b[39;00m\n\u001b[1;32m   3904\u001b[0m     \u001b[38;5;28;01mif\u001b[39;00m \u001b[38;5;129;01mnot\u001b[39;00m result\u001b[38;5;241m.\u001b[39m_get_axis(axis)\u001b[38;5;241m.\u001b[39mequals(\u001b[38;5;28mself\u001b[39m\u001b[38;5;241m.\u001b[39m_get_axis(axis)):\n",
      "File \u001b[0;32m/data/leuven/357/vsc35702/miniconda3/envs/ml_snow/lib/python3.9/site-packages/pandas/core/generic.py:3886\u001b[0m, in \u001b[0;36mNDFrame._take\u001b[0;34m(self, indices, axis, convert_indices)\u001b[0m\n\u001b[1;32m   3879\u001b[0m \u001b[38;5;250m\u001b[39m\u001b[38;5;124;03m\"\"\"\u001b[39;00m\n\u001b[1;32m   3880\u001b[0m \u001b[38;5;124;03mInternal version of the `take` allowing specification of additional args.\u001b[39;00m\n\u001b[1;32m   3881\u001b[0m \n\u001b[1;32m   3882\u001b[0m \u001b[38;5;124;03mSee the docstring of `take` for full explanation of the parameters.\u001b[39;00m\n\u001b[1;32m   3883\u001b[0m \u001b[38;5;124;03m\"\"\"\u001b[39;00m\n\u001b[1;32m   3884\u001b[0m \u001b[38;5;28mself\u001b[39m\u001b[38;5;241m.\u001b[39m_consolidate_inplace()\n\u001b[0;32m-> 3886\u001b[0m new_data \u001b[38;5;241m=\u001b[39m \u001b[38;5;28;43mself\u001b[39;49m\u001b[38;5;241;43m.\u001b[39;49m\u001b[43m_mgr\u001b[49m\u001b[38;5;241;43m.\u001b[39;49m\u001b[43mtake\u001b[49m\u001b[43m(\u001b[49m\n\u001b[1;32m   3887\u001b[0m \u001b[43m    \u001b[49m\u001b[43mindices\u001b[49m\u001b[43m,\u001b[49m\n\u001b[1;32m   3888\u001b[0m \u001b[43m    \u001b[49m\u001b[43maxis\u001b[49m\u001b[38;5;241;43m=\u001b[39;49m\u001b[38;5;28;43mself\u001b[39;49m\u001b[38;5;241;43m.\u001b[39;49m\u001b[43m_get_block_manager_axis\u001b[49m\u001b[43m(\u001b[49m\u001b[43maxis\u001b[49m\u001b[43m)\u001b[49m\u001b[43m,\u001b[49m\n\u001b[1;32m   3889\u001b[0m \u001b[43m    \u001b[49m\u001b[43mverify\u001b[49m\u001b[38;5;241;43m=\u001b[39;49m\u001b[38;5;28;43;01mTrue\u001b[39;49;00m\u001b[43m,\u001b[49m\n\u001b[1;32m   3890\u001b[0m \u001b[43m    \u001b[49m\u001b[43mconvert_indices\u001b[49m\u001b[38;5;241;43m=\u001b[39;49m\u001b[43mconvert_indices\u001b[49m\u001b[43m,\u001b[49m\n\u001b[1;32m   3891\u001b[0m \u001b[43m\u001b[49m\u001b[43m)\u001b[49m\n\u001b[1;32m   3892\u001b[0m \u001b[38;5;28;01mreturn\u001b[39;00m \u001b[38;5;28mself\u001b[39m\u001b[38;5;241m.\u001b[39m_constructor(new_data)\u001b[38;5;241m.\u001b[39m__finalize__(\u001b[38;5;28mself\u001b[39m, method\u001b[38;5;241m=\u001b[39m\u001b[38;5;124m\"\u001b[39m\u001b[38;5;124mtake\u001b[39m\u001b[38;5;124m\"\u001b[39m)\n",
      "File \u001b[0;32m/data/leuven/357/vsc35702/miniconda3/envs/ml_snow/lib/python3.9/site-packages/pandas/core/internals/managers.py:978\u001b[0m, in \u001b[0;36mBaseBlockManager.take\u001b[0;34m(self, indexer, axis, verify, convert_indices)\u001b[0m\n\u001b[1;32m    975\u001b[0m     indexer \u001b[38;5;241m=\u001b[39m maybe_convert_indices(indexer, n, verify\u001b[38;5;241m=\u001b[39mverify)\n\u001b[1;32m    977\u001b[0m new_labels \u001b[38;5;241m=\u001b[39m \u001b[38;5;28mself\u001b[39m\u001b[38;5;241m.\u001b[39maxes[axis]\u001b[38;5;241m.\u001b[39mtake(indexer)\n\u001b[0;32m--> 978\u001b[0m \u001b[38;5;28;01mreturn\u001b[39;00m \u001b[38;5;28;43mself\u001b[39;49m\u001b[38;5;241;43m.\u001b[39;49m\u001b[43mreindex_indexer\u001b[49m\u001b[43m(\u001b[49m\n\u001b[1;32m    979\u001b[0m \u001b[43m    \u001b[49m\u001b[43mnew_axis\u001b[49m\u001b[38;5;241;43m=\u001b[39;49m\u001b[43mnew_labels\u001b[49m\u001b[43m,\u001b[49m\n\u001b[1;32m    980\u001b[0m \u001b[43m    \u001b[49m\u001b[43mindexer\u001b[49m\u001b[38;5;241;43m=\u001b[39;49m\u001b[43mindexer\u001b[49m\u001b[43m,\u001b[49m\n\u001b[1;32m    981\u001b[0m \u001b[43m    \u001b[49m\u001b[43maxis\u001b[49m\u001b[38;5;241;43m=\u001b[39;49m\u001b[43maxis\u001b[49m\u001b[43m,\u001b[49m\n\u001b[1;32m    982\u001b[0m \u001b[43m    \u001b[49m\u001b[43mallow_dups\u001b[49m\u001b[38;5;241;43m=\u001b[39;49m\u001b[38;5;28;43;01mTrue\u001b[39;49;00m\u001b[43m,\u001b[49m\n\u001b[1;32m    983\u001b[0m \u001b[43m    \u001b[49m\u001b[43mcopy\u001b[49m\u001b[38;5;241;43m=\u001b[39;49m\u001b[38;5;28;43;01mNone\u001b[39;49;00m\u001b[43m,\u001b[49m\n\u001b[1;32m    984\u001b[0m \u001b[43m\u001b[49m\u001b[43m)\u001b[49m\n",
      "File \u001b[0;32m/data/leuven/357/vsc35702/miniconda3/envs/ml_snow/lib/python3.9/site-packages/pandas/core/internals/managers.py:743\u001b[0m, in \u001b[0;36mBaseBlockManager.reindex_indexer\u001b[0;34m(self, new_axis, indexer, axis, fill_value, allow_dups, copy, only_slice, use_na_proxy)\u001b[0m\n\u001b[1;32m    740\u001b[0m     \u001b[38;5;28;01mraise\u001b[39;00m \u001b[38;5;167;01mIndexError\u001b[39;00m(\u001b[38;5;124m\"\u001b[39m\u001b[38;5;124mRequested axis not found in manager\u001b[39m\u001b[38;5;124m\"\u001b[39m)\n\u001b[1;32m    742\u001b[0m \u001b[38;5;28;01mif\u001b[39;00m axis \u001b[38;5;241m==\u001b[39m \u001b[38;5;241m0\u001b[39m:\n\u001b[0;32m--> 743\u001b[0m     new_blocks, new_refs \u001b[38;5;241m=\u001b[39m \u001b[38;5;28;43mself\u001b[39;49m\u001b[38;5;241;43m.\u001b[39;49m\u001b[43m_slice_take_blocks_ax0\u001b[49m\u001b[43m(\u001b[49m\n\u001b[1;32m    744\u001b[0m \u001b[43m        \u001b[49m\u001b[43mindexer\u001b[49m\u001b[43m,\u001b[49m\n\u001b[1;32m    745\u001b[0m \u001b[43m        \u001b[49m\u001b[43mfill_value\u001b[49m\u001b[38;5;241;43m=\u001b[39;49m\u001b[43mfill_value\u001b[49m\u001b[43m,\u001b[49m\n\u001b[1;32m    746\u001b[0m \u001b[43m        \u001b[49m\u001b[43monly_slice\u001b[49m\u001b[38;5;241;43m=\u001b[39;49m\u001b[43monly_slice\u001b[49m\u001b[43m,\u001b[49m\n\u001b[1;32m    747\u001b[0m \u001b[43m        \u001b[49m\u001b[43muse_na_proxy\u001b[49m\u001b[38;5;241;43m=\u001b[39;49m\u001b[43muse_na_proxy\u001b[49m\u001b[43m,\u001b[49m\n\u001b[1;32m    748\u001b[0m \u001b[43m    \u001b[49m\u001b[43m)\u001b[49m\n\u001b[1;32m    749\u001b[0m     parent \u001b[38;5;241m=\u001b[39m \u001b[38;5;28;01mNone\u001b[39;00m \u001b[38;5;28;01mif\u001b[39;00m com\u001b[38;5;241m.\u001b[39mall_none(\u001b[38;5;241m*\u001b[39mnew_refs) \u001b[38;5;28;01melse\u001b[39;00m \u001b[38;5;28mself\u001b[39m\n\u001b[1;32m    750\u001b[0m \u001b[38;5;28;01melse\u001b[39;00m:\n",
      "File \u001b[0;32m/data/leuven/357/vsc35702/miniconda3/envs/ml_snow/lib/python3.9/site-packages/pandas/core/internals/managers.py:912\u001b[0m, in \u001b[0;36mBaseBlockManager._slice_take_blocks_ax0\u001b[0;34m(self, slice_or_indexer, fill_value, only_slice, use_na_proxy)\u001b[0m\n\u001b[1;32m    910\u001b[0m         refs\u001b[38;5;241m.\u001b[39mappend(weakref\u001b[38;5;241m.\u001b[39mref(blk))\n\u001b[1;32m    911\u001b[0m \u001b[38;5;28;01melse\u001b[39;00m:\n\u001b[0;32m--> 912\u001b[0m     nb \u001b[38;5;241m=\u001b[39m \u001b[43mblk\u001b[49m\u001b[38;5;241;43m.\u001b[39;49m\u001b[43mtake_nd\u001b[49m\u001b[43m(\u001b[49m\u001b[43mtaker\u001b[49m\u001b[43m,\u001b[49m\u001b[43m \u001b[49m\u001b[43maxis\u001b[49m\u001b[38;5;241;43m=\u001b[39;49m\u001b[38;5;241;43m0\u001b[39;49m\u001b[43m,\u001b[49m\u001b[43m \u001b[49m\u001b[43mnew_mgr_locs\u001b[49m\u001b[38;5;241;43m=\u001b[39;49m\u001b[43mmgr_locs\u001b[49m\u001b[43m)\u001b[49m\n\u001b[1;32m    913\u001b[0m     blocks\u001b[38;5;241m.\u001b[39mappend(nb)\n\u001b[1;32m    914\u001b[0m     refs\u001b[38;5;241m.\u001b[39mappend(\u001b[38;5;28;01mNone\u001b[39;00m)\n",
      "File \u001b[0;32m/data/leuven/357/vsc35702/miniconda3/envs/ml_snow/lib/python3.9/site-packages/pandas/core/internals/blocks.py:880\u001b[0m, in \u001b[0;36mBlock.take_nd\u001b[0;34m(self, indexer, axis, new_mgr_locs, fill_value)\u001b[0m\n\u001b[1;32m    877\u001b[0m     allow_fill \u001b[38;5;241m=\u001b[39m \u001b[38;5;28;01mTrue\u001b[39;00m\n\u001b[1;32m    879\u001b[0m \u001b[38;5;66;03m# Note: algos.take_nd has upcast logic similar to coerce_to_target_dtype\u001b[39;00m\n\u001b[0;32m--> 880\u001b[0m new_values \u001b[38;5;241m=\u001b[39m \u001b[43malgos\u001b[49m\u001b[38;5;241;43m.\u001b[39;49m\u001b[43mtake_nd\u001b[49m\u001b[43m(\u001b[49m\n\u001b[1;32m    881\u001b[0m \u001b[43m    \u001b[49m\u001b[43mvalues\u001b[49m\u001b[43m,\u001b[49m\u001b[43m \u001b[49m\u001b[43mindexer\u001b[49m\u001b[43m,\u001b[49m\u001b[43m \u001b[49m\u001b[43maxis\u001b[49m\u001b[38;5;241;43m=\u001b[39;49m\u001b[43maxis\u001b[49m\u001b[43m,\u001b[49m\u001b[43m \u001b[49m\u001b[43mallow_fill\u001b[49m\u001b[38;5;241;43m=\u001b[39;49m\u001b[43mallow_fill\u001b[49m\u001b[43m,\u001b[49m\u001b[43m \u001b[49m\u001b[43mfill_value\u001b[49m\u001b[38;5;241;43m=\u001b[39;49m\u001b[43mfill_value\u001b[49m\n\u001b[1;32m    882\u001b[0m \u001b[43m\u001b[49m\u001b[43m)\u001b[49m\n\u001b[1;32m    884\u001b[0m \u001b[38;5;66;03m# Called from three places in managers, all of which satisfy\u001b[39;00m\n\u001b[1;32m    885\u001b[0m \u001b[38;5;66;03m#  this assertion\u001b[39;00m\n\u001b[1;32m    886\u001b[0m \u001b[38;5;28;01massert\u001b[39;00m \u001b[38;5;129;01mnot\u001b[39;00m (axis \u001b[38;5;241m==\u001b[39m \u001b[38;5;241m0\u001b[39m \u001b[38;5;129;01mand\u001b[39;00m new_mgr_locs \u001b[38;5;129;01mis\u001b[39;00m \u001b[38;5;28;01mNone\u001b[39;00m)\n",
      "File \u001b[0;32m/data/leuven/357/vsc35702/miniconda3/envs/ml_snow/lib/python3.9/site-packages/pandas/core/array_algos/take.py:117\u001b[0m, in \u001b[0;36mtake_nd\u001b[0;34m(arr, indexer, axis, fill_value, allow_fill)\u001b[0m\n\u001b[1;32m    114\u001b[0m     \u001b[38;5;28;01mreturn\u001b[39;00m arr\u001b[38;5;241m.\u001b[39mtake(indexer, fill_value\u001b[38;5;241m=\u001b[39mfill_value, allow_fill\u001b[38;5;241m=\u001b[39mallow_fill)\n\u001b[1;32m    116\u001b[0m arr \u001b[38;5;241m=\u001b[39m np\u001b[38;5;241m.\u001b[39masarray(arr)\n\u001b[0;32m--> 117\u001b[0m \u001b[38;5;28;01mreturn\u001b[39;00m \u001b[43m_take_nd_ndarray\u001b[49m\u001b[43m(\u001b[49m\u001b[43marr\u001b[49m\u001b[43m,\u001b[49m\u001b[43m \u001b[49m\u001b[43mindexer\u001b[49m\u001b[43m,\u001b[49m\u001b[43m \u001b[49m\u001b[43maxis\u001b[49m\u001b[43m,\u001b[49m\u001b[43m \u001b[49m\u001b[43mfill_value\u001b[49m\u001b[43m,\u001b[49m\u001b[43m \u001b[49m\u001b[43mallow_fill\u001b[49m\u001b[43m)\u001b[49m\n",
      "File \u001b[0;32m/data/leuven/357/vsc35702/miniconda3/envs/ml_snow/lib/python3.9/site-packages/pandas/core/array_algos/take.py:163\u001b[0m, in \u001b[0;36m_take_nd_ndarray\u001b[0;34m(arr, indexer, axis, fill_value, allow_fill)\u001b[0m\n\u001b[1;32m    158\u001b[0m     out \u001b[38;5;241m=\u001b[39m np\u001b[38;5;241m.\u001b[39mempty(out_shape, dtype\u001b[38;5;241m=\u001b[39mdtype)\n\u001b[1;32m    160\u001b[0m func \u001b[38;5;241m=\u001b[39m _get_take_nd_function(\n\u001b[1;32m    161\u001b[0m     arr\u001b[38;5;241m.\u001b[39mndim, arr\u001b[38;5;241m.\u001b[39mdtype, out\u001b[38;5;241m.\u001b[39mdtype, axis\u001b[38;5;241m=\u001b[39maxis, mask_info\u001b[38;5;241m=\u001b[39mmask_info\n\u001b[1;32m    162\u001b[0m )\n\u001b[0;32m--> 163\u001b[0m \u001b[43mfunc\u001b[49m\u001b[43m(\u001b[49m\u001b[43marr\u001b[49m\u001b[43m,\u001b[49m\u001b[43m \u001b[49m\u001b[43mindexer\u001b[49m\u001b[43m,\u001b[49m\u001b[43m \u001b[49m\u001b[43mout\u001b[49m\u001b[43m,\u001b[49m\u001b[43m \u001b[49m\u001b[43mfill_value\u001b[49m\u001b[43m)\u001b[49m\n\u001b[1;32m    165\u001b[0m \u001b[38;5;28;01mif\u001b[39;00m flip_order:\n\u001b[1;32m    166\u001b[0m     out \u001b[38;5;241m=\u001b[39m out\u001b[38;5;241m.\u001b[39mT\n",
      "\u001b[0;31mKeyboardInterrupt\u001b[0m: "
     ]
    }
   ],
   "source": [
    "test = all_data[all_data.fold==3]\n",
    "test = test.reset_index()\n",
    "test = test.drop(labels = 'index', axis = 1)\n",
    "\n",
    "train = all_data[all_data.fold!=3]\n",
    "train = train.reset_index()\n",
    "train = train.drop(labels = 'index', axis = 1)\n",
    "    \n",
    "test_features = test[all_features].dropna().reset_index(drop = True)\n",
    "train_features = train[all_features].dropna().reset_index(drop = True)\n",
    "train_subset = subset_training(train_features)\n",
    "train_subset = train_subset.reset_index(drop=True)\n",
    "\n",
    "regr = setup(train_subset, test_data = test_features, target = 'sd_insitu', ignore_features = ['fold', 'sd_hans'], numeric_features = numeric_features, categorical_features = categorical_features,\\\n",
    "    numeric_imputation='drop',index = False, normalize = True, fold_strategy = 'groupkfold', fold_groups = 'fold', fold = 4, session_id = 42, remove_outliers = True, verbose = False)\n",
    "\n",
    "compare_models()"
   ]
  },
  {
   "cell_type": "code",
   "execution_count": null,
   "id": "3a4f2e62-2f31-4a25-abc1-9c5c60ae99e0",
   "metadata": {
    "tags": []
   },
   "outputs": [],
   "source": [
    "xgboost = create_model('xgboost')\n",
    "et = create_model('et')\n",
    "catboost = create_model('catboost')\n",
    "\n",
    "tune_model(xgboost, n_iter = 50)\n",
    "tune_model(catboost, n_iter = 50)"
   ]
  },
  {
   "cell_type": "code",
   "execution_count": 32,
   "id": "414f2dfe-2785-4752-bd54-ed80b1a90c89",
   "metadata": {
    "tags": []
   },
   "outputs": [
    {
     "name": "stdout",
     "output_type": "stream",
     "text": [
      "1\n",
      "8745 1160\n"
     ]
    },
    {
     "data": {
      "text/html": [],
      "text/plain": [
       "<IPython.core.display.HTML object>"
      ]
     },
     "metadata": {},
     "output_type": "display_data"
    },
    {
     "data": {
      "text/html": [
       "<style type=\"text/css\">\n",
       "#T_2d0d6_row4_col0, #T_2d0d6_row4_col1, #T_2d0d6_row4_col2, #T_2d0d6_row4_col3, #T_2d0d6_row4_col4, #T_2d0d6_row4_col5 {\n",
       "  background: yellow;\n",
       "}\n",
       "</style>\n",
       "<table id=\"T_2d0d6\">\n",
       "  <thead>\n",
       "    <tr>\n",
       "      <th class=\"blank level0\" >&nbsp;</th>\n",
       "      <th id=\"T_2d0d6_level0_col0\" class=\"col_heading level0 col0\" >MAE</th>\n",
       "      <th id=\"T_2d0d6_level0_col1\" class=\"col_heading level0 col1\" >MSE</th>\n",
       "      <th id=\"T_2d0d6_level0_col2\" class=\"col_heading level0 col2\" >RMSE</th>\n",
       "      <th id=\"T_2d0d6_level0_col3\" class=\"col_heading level0 col3\" >R2</th>\n",
       "      <th id=\"T_2d0d6_level0_col4\" class=\"col_heading level0 col4\" >RMSLE</th>\n",
       "      <th id=\"T_2d0d6_level0_col5\" class=\"col_heading level0 col5\" >MAPE</th>\n",
       "    </tr>\n",
       "    <tr>\n",
       "      <th class=\"index_name level0\" >Fold</th>\n",
       "      <th class=\"blank col0\" >&nbsp;</th>\n",
       "      <th class=\"blank col1\" >&nbsp;</th>\n",
       "      <th class=\"blank col2\" >&nbsp;</th>\n",
       "      <th class=\"blank col3\" >&nbsp;</th>\n",
       "      <th class=\"blank col4\" >&nbsp;</th>\n",
       "      <th class=\"blank col5\" >&nbsp;</th>\n",
       "    </tr>\n",
       "  </thead>\n",
       "  <tbody>\n",
       "    <tr>\n",
       "      <th id=\"T_2d0d6_level0_row0\" class=\"row_heading level0 row0\" >0</th>\n",
       "      <td id=\"T_2d0d6_row0_col0\" class=\"data row0 col0\" >0.3948</td>\n",
       "      <td id=\"T_2d0d6_row0_col1\" class=\"data row0 col1\" >0.3136</td>\n",
       "      <td id=\"T_2d0d6_row0_col2\" class=\"data row0 col2\" >0.5600</td>\n",
       "      <td id=\"T_2d0d6_row0_col3\" class=\"data row0 col3\" >-0.1938</td>\n",
       "      <td id=\"T_2d0d6_row0_col4\" class=\"data row0 col4\" >0.1151</td>\n",
       "      <td id=\"T_2d0d6_row0_col5\" class=\"data row0 col5\" >0.1029</td>\n",
       "    </tr>\n",
       "    <tr>\n",
       "      <th id=\"T_2d0d6_level0_row1\" class=\"row_heading level0 row1\" >1</th>\n",
       "      <td id=\"T_2d0d6_row1_col0\" class=\"data row1 col0\" >0.4536</td>\n",
       "      <td id=\"T_2d0d6_row1_col1\" class=\"data row1 col1\" >0.3449</td>\n",
       "      <td id=\"T_2d0d6_row1_col2\" class=\"data row1 col2\" >0.5873</td>\n",
       "      <td id=\"T_2d0d6_row1_col3\" class=\"data row1 col3\" >-0.4971</td>\n",
       "      <td id=\"T_2d0d6_row1_col4\" class=\"data row1 col4\" >0.1225</td>\n",
       "      <td id=\"T_2d0d6_row1_col5\" class=\"data row1 col5\" >0.1274</td>\n",
       "    </tr>\n",
       "    <tr>\n",
       "      <th id=\"T_2d0d6_level0_row2\" class=\"row_heading level0 row2\" >2</th>\n",
       "      <td id=\"T_2d0d6_row2_col0\" class=\"data row2 col0\" >0.5620</td>\n",
       "      <td id=\"T_2d0d6_row2_col1\" class=\"data row2 col1\" >0.6674</td>\n",
       "      <td id=\"T_2d0d6_row2_col2\" class=\"data row2 col2\" >0.8170</td>\n",
       "      <td id=\"T_2d0d6_row2_col3\" class=\"data row2 col3\" >-0.1559</td>\n",
       "      <td id=\"T_2d0d6_row2_col4\" class=\"data row2 col4\" >0.1601</td>\n",
       "      <td id=\"T_2d0d6_row2_col5\" class=\"data row2 col5\" >0.1374</td>\n",
       "    </tr>\n",
       "    <tr>\n",
       "      <th id=\"T_2d0d6_level0_row3\" class=\"row_heading level0 row3\" >3</th>\n",
       "      <td id=\"T_2d0d6_row3_col0\" class=\"data row3 col0\" >0.5049</td>\n",
       "      <td id=\"T_2d0d6_row3_col1\" class=\"data row3 col1\" >0.5068</td>\n",
       "      <td id=\"T_2d0d6_row3_col2\" class=\"data row3 col2\" >0.7119</td>\n",
       "      <td id=\"T_2d0d6_row3_col3\" class=\"data row3 col3\" >-0.9882</td>\n",
       "      <td id=\"T_2d0d6_row3_col4\" class=\"data row3 col4\" >0.1428</td>\n",
       "      <td id=\"T_2d0d6_row3_col5\" class=\"data row3 col5\" >0.1352</td>\n",
       "    </tr>\n",
       "    <tr>\n",
       "      <th id=\"T_2d0d6_level0_row4\" class=\"row_heading level0 row4\" >Mean</th>\n",
       "      <td id=\"T_2d0d6_row4_col0\" class=\"data row4 col0\" >0.4788</td>\n",
       "      <td id=\"T_2d0d6_row4_col1\" class=\"data row4 col1\" >0.4582</td>\n",
       "      <td id=\"T_2d0d6_row4_col2\" class=\"data row4 col2\" >0.6690</td>\n",
       "      <td id=\"T_2d0d6_row4_col3\" class=\"data row4 col3\" >-0.4587</td>\n",
       "      <td id=\"T_2d0d6_row4_col4\" class=\"data row4 col4\" >0.1351</td>\n",
       "      <td id=\"T_2d0d6_row4_col5\" class=\"data row4 col5\" >0.1257</td>\n",
       "    </tr>\n",
       "    <tr>\n",
       "      <th id=\"T_2d0d6_level0_row5\" class=\"row_heading level0 row5\" >Std</th>\n",
       "      <td id=\"T_2d0d6_row5_col0\" class=\"data row5 col0\" >0.0618</td>\n",
       "      <td id=\"T_2d0d6_row5_col1\" class=\"data row5 col1\" >0.1413</td>\n",
       "      <td id=\"T_2d0d6_row5_col2\" class=\"data row5 col2\" >0.1028</td>\n",
       "      <td id=\"T_2d0d6_row5_col3\" class=\"data row5 col3\" >0.3331</td>\n",
       "      <td id=\"T_2d0d6_row5_col4\" class=\"data row5 col4\" >0.0176</td>\n",
       "      <td id=\"T_2d0d6_row5_col5\" class=\"data row5 col5\" >0.0137</td>\n",
       "    </tr>\n",
       "  </tbody>\n",
       "</table>\n"
      ],
      "text/plain": [
       "<pandas.io.formats.style.Styler at 0x14726be46a00>"
      ]
     },
     "metadata": {},
     "output_type": "display_data"
    },
    {
     "data": {
      "text/html": [],
      "text/plain": [
       "<IPython.core.display.HTML object>"
      ]
     },
     "metadata": {},
     "output_type": "display_data"
    },
    {
     "data": {
      "text/html": [],
      "text/plain": [
       "<IPython.core.display.HTML object>"
      ]
     },
     "metadata": {},
     "output_type": "display_data"
    },
    {
     "data": {
      "text/html": [
       "<style type=\"text/css\">\n",
       "#T_550a8_row4_col0, #T_550a8_row4_col1, #T_550a8_row4_col2, #T_550a8_row4_col3, #T_550a8_row4_col4, #T_550a8_row4_col5 {\n",
       "  background: yellow;\n",
       "}\n",
       "</style>\n",
       "<table id=\"T_550a8\">\n",
       "  <thead>\n",
       "    <tr>\n",
       "      <th class=\"blank level0\" >&nbsp;</th>\n",
       "      <th id=\"T_550a8_level0_col0\" class=\"col_heading level0 col0\" >MAE</th>\n",
       "      <th id=\"T_550a8_level0_col1\" class=\"col_heading level0 col1\" >MSE</th>\n",
       "      <th id=\"T_550a8_level0_col2\" class=\"col_heading level0 col2\" >RMSE</th>\n",
       "      <th id=\"T_550a8_level0_col3\" class=\"col_heading level0 col3\" >R2</th>\n",
       "      <th id=\"T_550a8_level0_col4\" class=\"col_heading level0 col4\" >RMSLE</th>\n",
       "      <th id=\"T_550a8_level0_col5\" class=\"col_heading level0 col5\" >MAPE</th>\n",
       "    </tr>\n",
       "    <tr>\n",
       "      <th class=\"index_name level0\" >Fold</th>\n",
       "      <th class=\"blank col0\" >&nbsp;</th>\n",
       "      <th class=\"blank col1\" >&nbsp;</th>\n",
       "      <th class=\"blank col2\" >&nbsp;</th>\n",
       "      <th class=\"blank col3\" >&nbsp;</th>\n",
       "      <th class=\"blank col4\" >&nbsp;</th>\n",
       "      <th class=\"blank col5\" >&nbsp;</th>\n",
       "    </tr>\n",
       "  </thead>\n",
       "  <tbody>\n",
       "    <tr>\n",
       "      <th id=\"T_550a8_level0_row0\" class=\"row_heading level0 row0\" >0</th>\n",
       "      <td id=\"T_550a8_row0_col0\" class=\"data row0 col0\" >0.3918</td>\n",
       "      <td id=\"T_550a8_row0_col1\" class=\"data row0 col1\" >0.2641</td>\n",
       "      <td id=\"T_550a8_row0_col2\" class=\"data row0 col2\" >0.5139</td>\n",
       "      <td id=\"T_550a8_row0_col3\" class=\"data row0 col3\" >-0.0053</td>\n",
       "      <td id=\"T_550a8_row0_col4\" class=\"data row0 col4\" >0.1054</td>\n",
       "      <td id=\"T_550a8_row0_col5\" class=\"data row0 col5\" >0.1071</td>\n",
       "    </tr>\n",
       "    <tr>\n",
       "      <th id=\"T_550a8_level0_row1\" class=\"row_heading level0 row1\" >1</th>\n",
       "      <td id=\"T_550a8_row1_col0\" class=\"data row1 col0\" >0.3832</td>\n",
       "      <td id=\"T_550a8_row1_col1\" class=\"data row1 col1\" >0.2374</td>\n",
       "      <td id=\"T_550a8_row1_col2\" class=\"data row1 col2\" >0.4872</td>\n",
       "      <td id=\"T_550a8_row1_col3\" class=\"data row1 col3\" >-0.0302</td>\n",
       "      <td id=\"T_550a8_row1_col4\" class=\"data row1 col4\" >0.1017</td>\n",
       "      <td id=\"T_550a8_row1_col5\" class=\"data row1 col5\" >0.1075</td>\n",
       "    </tr>\n",
       "    <tr>\n",
       "      <th id=\"T_550a8_level0_row2\" class=\"row_heading level0 row2\" >2</th>\n",
       "      <td id=\"T_550a8_row2_col0\" class=\"data row2 col0\" >0.5350</td>\n",
       "      <td id=\"T_550a8_row2_col1\" class=\"data row2 col1\" >0.5991</td>\n",
       "      <td id=\"T_550a8_row2_col2\" class=\"data row2 col2\" >0.7740</td>\n",
       "      <td id=\"T_550a8_row2_col3\" class=\"data row2 col3\" >-0.0375</td>\n",
       "      <td id=\"T_550a8_row2_col4\" class=\"data row2 col4\" >0.1479</td>\n",
       "      <td id=\"T_550a8_row2_col5\" class=\"data row2 col5\" >0.1302</td>\n",
       "    </tr>\n",
       "    <tr>\n",
       "      <th id=\"T_550a8_level0_row3\" class=\"row_heading level0 row3\" >3</th>\n",
       "      <td id=\"T_550a8_row3_col0\" class=\"data row3 col0\" >0.4047</td>\n",
       "      <td id=\"T_550a8_row3_col1\" class=\"data row3 col1\" >0.2505</td>\n",
       "      <td id=\"T_550a8_row3_col2\" class=\"data row3 col2\" >0.5005</td>\n",
       "      <td id=\"T_550a8_row3_col3\" class=\"data row3 col3\" >0.0171</td>\n",
       "      <td id=\"T_550a8_row3_col4\" class=\"data row3 col4\" >0.1043</td>\n",
       "      <td id=\"T_550a8_row3_col5\" class=\"data row3 col5\" >0.1097</td>\n",
       "    </tr>\n",
       "    <tr>\n",
       "      <th id=\"T_550a8_level0_row4\" class=\"row_heading level0 row4\" >Mean</th>\n",
       "      <td id=\"T_550a8_row4_col0\" class=\"data row4 col0\" >0.4287</td>\n",
       "      <td id=\"T_550a8_row4_col1\" class=\"data row4 col1\" >0.3378</td>\n",
       "      <td id=\"T_550a8_row4_col2\" class=\"data row4 col2\" >0.5689</td>\n",
       "      <td id=\"T_550a8_row4_col3\" class=\"data row4 col3\" >-0.0140</td>\n",
       "      <td id=\"T_550a8_row4_col4\" class=\"data row4 col4\" >0.1148</td>\n",
       "      <td id=\"T_550a8_row4_col5\" class=\"data row4 col5\" >0.1136</td>\n",
       "    </tr>\n",
       "    <tr>\n",
       "      <th id=\"T_550a8_level0_row5\" class=\"row_heading level0 row5\" >Std</th>\n",
       "      <td id=\"T_550a8_row5_col0\" class=\"data row5 col0\" >0.0619</td>\n",
       "      <td id=\"T_550a8_row5_col1\" class=\"data row5 col1\" >0.1512</td>\n",
       "      <td id=\"T_550a8_row5_col2\" class=\"data row5 col2\" >0.1188</td>\n",
       "      <td id=\"T_550a8_row5_col3\" class=\"data row5 col3\" >0.0215</td>\n",
       "      <td id=\"T_550a8_row5_col4\" class=\"data row5 col4\" >0.0192</td>\n",
       "      <td id=\"T_550a8_row5_col5\" class=\"data row5 col5\" >0.0096</td>\n",
       "    </tr>\n",
       "  </tbody>\n",
       "</table>\n"
      ],
      "text/plain": [
       "<pandas.io.formats.style.Styler at 0x1472ab16d070>"
      ]
     },
     "metadata": {},
     "output_type": "display_data"
    },
    {
     "data": {
      "text/html": [],
      "text/plain": [
       "<IPython.core.display.HTML object>"
      ]
     },
     "metadata": {},
     "output_type": "display_data"
    },
    {
     "name": "stdout",
     "output_type": "stream",
     "text": [
      "Fitting 4 folds for each of 50 candidates, totalling 200 fits\n"
     ]
    },
    {
     "data": {
      "text/html": [
       "<style type=\"text/css\">\n",
       "</style>\n",
       "<table id=\"T_7ad17\">\n",
       "  <thead>\n",
       "    <tr>\n",
       "      <th class=\"blank level0\" >&nbsp;</th>\n",
       "      <th id=\"T_7ad17_level0_col0\" class=\"col_heading level0 col0\" >Model</th>\n",
       "      <th id=\"T_7ad17_level0_col1\" class=\"col_heading level0 col1\" >MAE</th>\n",
       "      <th id=\"T_7ad17_level0_col2\" class=\"col_heading level0 col2\" >MSE</th>\n",
       "      <th id=\"T_7ad17_level0_col3\" class=\"col_heading level0 col3\" >RMSE</th>\n",
       "      <th id=\"T_7ad17_level0_col4\" class=\"col_heading level0 col4\" >R2</th>\n",
       "      <th id=\"T_7ad17_level0_col5\" class=\"col_heading level0 col5\" >RMSLE</th>\n",
       "      <th id=\"T_7ad17_level0_col6\" class=\"col_heading level0 col6\" >MAPE</th>\n",
       "    </tr>\n",
       "  </thead>\n",
       "  <tbody>\n",
       "    <tr>\n",
       "      <th id=\"T_7ad17_level0_row0\" class=\"row_heading level0 row0\" >0</th>\n",
       "      <td id=\"T_7ad17_row0_col0\" class=\"data row0 col0\" >Extreme Gradient Boosting</td>\n",
       "      <td id=\"T_7ad17_row0_col1\" class=\"data row0 col1\" >0.3663</td>\n",
       "      <td id=\"T_7ad17_row0_col2\" class=\"data row0 col2\" >0.1822</td>\n",
       "      <td id=\"T_7ad17_row0_col3\" class=\"data row0 col3\" >0.4268</td>\n",
       "      <td id=\"T_7ad17_row0_col4\" class=\"data row0 col4\" >0.0036</td>\n",
       "      <td id=\"T_7ad17_row0_col5\" class=\"data row0 col5\" >0.0920</td>\n",
       "      <td id=\"T_7ad17_row0_col6\" class=\"data row0 col6\" >0.1040</td>\n",
       "    </tr>\n",
       "  </tbody>\n",
       "</table>\n"
      ],
      "text/plain": [
       "<pandas.io.formats.style.Styler at 0x1472ab320460>"
      ]
     },
     "metadata": {},
     "output_type": "display_data"
    },
    {
     "name": "stdout",
     "output_type": "stream",
     "text": [
      "2\n",
      "4999 4906\n"
     ]
    },
    {
     "data": {
      "text/html": [],
      "text/plain": [
       "<IPython.core.display.HTML object>"
      ]
     },
     "metadata": {},
     "output_type": "display_data"
    },
    {
     "data": {
      "text/html": [
       "<style type=\"text/css\">\n",
       "#T_35c75_row4_col0, #T_35c75_row4_col1, #T_35c75_row4_col2, #T_35c75_row4_col3, #T_35c75_row4_col4, #T_35c75_row4_col5 {\n",
       "  background: yellow;\n",
       "}\n",
       "</style>\n",
       "<table id=\"T_35c75\">\n",
       "  <thead>\n",
       "    <tr>\n",
       "      <th class=\"blank level0\" >&nbsp;</th>\n",
       "      <th id=\"T_35c75_level0_col0\" class=\"col_heading level0 col0\" >MAE</th>\n",
       "      <th id=\"T_35c75_level0_col1\" class=\"col_heading level0 col1\" >MSE</th>\n",
       "      <th id=\"T_35c75_level0_col2\" class=\"col_heading level0 col2\" >RMSE</th>\n",
       "      <th id=\"T_35c75_level0_col3\" class=\"col_heading level0 col3\" >R2</th>\n",
       "      <th id=\"T_35c75_level0_col4\" class=\"col_heading level0 col4\" >RMSLE</th>\n",
       "      <th id=\"T_35c75_level0_col5\" class=\"col_heading level0 col5\" >MAPE</th>\n",
       "    </tr>\n",
       "    <tr>\n",
       "      <th class=\"index_name level0\" >Fold</th>\n",
       "      <th class=\"blank col0\" >&nbsp;</th>\n",
       "      <th class=\"blank col1\" >&nbsp;</th>\n",
       "      <th class=\"blank col2\" >&nbsp;</th>\n",
       "      <th class=\"blank col3\" >&nbsp;</th>\n",
       "      <th class=\"blank col4\" >&nbsp;</th>\n",
       "      <th class=\"blank col5\" >&nbsp;</th>\n",
       "    </tr>\n",
       "  </thead>\n",
       "  <tbody>\n",
       "    <tr>\n",
       "      <th id=\"T_35c75_level0_row0\" class=\"row_heading level0 row0\" >0</th>\n",
       "      <td id=\"T_35c75_row0_col0\" class=\"data row0 col0\" >0.4132</td>\n",
       "      <td id=\"T_35c75_row0_col1\" class=\"data row0 col1\" >0.3105</td>\n",
       "      <td id=\"T_35c75_row0_col2\" class=\"data row0 col2\" >0.5572</td>\n",
       "      <td id=\"T_35c75_row0_col3\" class=\"data row0 col3\" >-0.3475</td>\n",
       "      <td id=\"T_35c75_row0_col4\" class=\"data row0 col4\" >0.1172</td>\n",
       "      <td id=\"T_35c75_row0_col5\" class=\"data row0 col5\" >0.1116</td>\n",
       "    </tr>\n",
       "    <tr>\n",
       "      <th id=\"T_35c75_level0_row1\" class=\"row_heading level0 row1\" >1</th>\n",
       "      <td id=\"T_35c75_row1_col0\" class=\"data row1 col0\" >0.4569</td>\n",
       "      <td id=\"T_35c75_row1_col1\" class=\"data row1 col1\" >0.4011</td>\n",
       "      <td id=\"T_35c75_row1_col2\" class=\"data row1 col2\" >0.6333</td>\n",
       "      <td id=\"T_35c75_row1_col3\" class=\"data row1 col3\" >-1.1941</td>\n",
       "      <td id=\"T_35c75_row1_col4\" class=\"data row1 col4\" >0.1300</td>\n",
       "      <td id=\"T_35c75_row1_col5\" class=\"data row1 col5\" >0.1256</td>\n",
       "    </tr>\n",
       "    <tr>\n",
       "      <th id=\"T_35c75_level0_row2\" class=\"row_heading level0 row2\" >2</th>\n",
       "      <td id=\"T_35c75_row2_col0\" class=\"data row2 col0\" >0.5561</td>\n",
       "      <td id=\"T_35c75_row2_col1\" class=\"data row2 col1\" >0.6893</td>\n",
       "      <td id=\"T_35c75_row2_col2\" class=\"data row2 col2\" >0.8302</td>\n",
       "      <td id=\"T_35c75_row2_col3\" class=\"data row2 col3\" >-0.1937</td>\n",
       "      <td id=\"T_35c75_row2_col4\" class=\"data row2 col4\" >0.1615</td>\n",
       "      <td id=\"T_35c75_row2_col5\" class=\"data row2 col5\" >0.1319</td>\n",
       "    </tr>\n",
       "    <tr>\n",
       "      <th id=\"T_35c75_level0_row3\" class=\"row_heading level0 row3\" >3</th>\n",
       "      <td id=\"T_35c75_row3_col0\" class=\"data row3 col0\" >0.4238</td>\n",
       "      <td id=\"T_35c75_row3_col1\" class=\"data row3 col1\" >0.3313</td>\n",
       "      <td id=\"T_35c75_row3_col2\" class=\"data row3 col2\" >0.5755</td>\n",
       "      <td id=\"T_35c75_row3_col3\" class=\"data row3 col3\" >-0.2996</td>\n",
       "      <td id=\"T_35c75_row3_col4\" class=\"data row3 col4\" >0.1214</td>\n",
       "      <td id=\"T_35c75_row3_col5\" class=\"data row3 col5\" >0.1107</td>\n",
       "    </tr>\n",
       "    <tr>\n",
       "      <th id=\"T_35c75_level0_row4\" class=\"row_heading level0 row4\" >Mean</th>\n",
       "      <td id=\"T_35c75_row4_col0\" class=\"data row4 col0\" >0.4625</td>\n",
       "      <td id=\"T_35c75_row4_col1\" class=\"data row4 col1\" >0.4330</td>\n",
       "      <td id=\"T_35c75_row4_col2\" class=\"data row4 col2\" >0.6491</td>\n",
       "      <td id=\"T_35c75_row4_col3\" class=\"data row4 col3\" >-0.5087</td>\n",
       "      <td id=\"T_35c75_row4_col4\" class=\"data row4 col4\" >0.1325</td>\n",
       "      <td id=\"T_35c75_row4_col5\" class=\"data row4 col5\" >0.1200</td>\n",
       "    </tr>\n",
       "    <tr>\n",
       "      <th id=\"T_35c75_level0_row5\" class=\"row_heading level0 row5\" >Std</th>\n",
       "      <td id=\"T_35c75_row5_col0\" class=\"data row5 col0\" >0.0564</td>\n",
       "      <td id=\"T_35c75_row5_col1\" class=\"data row5 col1\" >0.1517</td>\n",
       "      <td id=\"T_35c75_row5_col2\" class=\"data row5 col2\" >0.1083</td>\n",
       "      <td id=\"T_35c75_row5_col3\" class=\"data row5 col3\" >0.3996</td>\n",
       "      <td id=\"T_35c75_row5_col4\" class=\"data row5 col4\" >0.0174</td>\n",
       "      <td id=\"T_35c75_row5_col5\" class=\"data row5 col5\" >0.0091</td>\n",
       "    </tr>\n",
       "  </tbody>\n",
       "</table>\n"
      ],
      "text/plain": [
       "<pandas.io.formats.style.Styler at 0x1472ab2f3f40>"
      ]
     },
     "metadata": {},
     "output_type": "display_data"
    },
    {
     "data": {
      "text/html": [],
      "text/plain": [
       "<IPython.core.display.HTML object>"
      ]
     },
     "metadata": {},
     "output_type": "display_data"
    },
    {
     "data": {
      "text/html": [],
      "text/plain": [
       "<IPython.core.display.HTML object>"
      ]
     },
     "metadata": {},
     "output_type": "display_data"
    },
    {
     "data": {
      "text/html": [
       "<style type=\"text/css\">\n",
       "#T_b3915_row4_col0, #T_b3915_row4_col1, #T_b3915_row4_col2, #T_b3915_row4_col3, #T_b3915_row4_col4, #T_b3915_row4_col5 {\n",
       "  background: yellow;\n",
       "}\n",
       "</style>\n",
       "<table id=\"T_b3915\">\n",
       "  <thead>\n",
       "    <tr>\n",
       "      <th class=\"blank level0\" >&nbsp;</th>\n",
       "      <th id=\"T_b3915_level0_col0\" class=\"col_heading level0 col0\" >MAE</th>\n",
       "      <th id=\"T_b3915_level0_col1\" class=\"col_heading level0 col1\" >MSE</th>\n",
       "      <th id=\"T_b3915_level0_col2\" class=\"col_heading level0 col2\" >RMSE</th>\n",
       "      <th id=\"T_b3915_level0_col3\" class=\"col_heading level0 col3\" >R2</th>\n",
       "      <th id=\"T_b3915_level0_col4\" class=\"col_heading level0 col4\" >RMSLE</th>\n",
       "      <th id=\"T_b3915_level0_col5\" class=\"col_heading level0 col5\" >MAPE</th>\n",
       "    </tr>\n",
       "    <tr>\n",
       "      <th class=\"index_name level0\" >Fold</th>\n",
       "      <th class=\"blank col0\" >&nbsp;</th>\n",
       "      <th class=\"blank col1\" >&nbsp;</th>\n",
       "      <th class=\"blank col2\" >&nbsp;</th>\n",
       "      <th class=\"blank col3\" >&nbsp;</th>\n",
       "      <th class=\"blank col4\" >&nbsp;</th>\n",
       "      <th class=\"blank col5\" >&nbsp;</th>\n",
       "    </tr>\n",
       "  </thead>\n",
       "  <tbody>\n",
       "    <tr>\n",
       "      <th id=\"T_b3915_level0_row0\" class=\"row_heading level0 row0\" >0</th>\n",
       "      <td id=\"T_b3915_row0_col0\" class=\"data row0 col0\" >0.3896</td>\n",
       "      <td id=\"T_b3915_row0_col1\" class=\"data row0 col1\" >0.2405</td>\n",
       "      <td id=\"T_b3915_row0_col2\" class=\"data row0 col2\" >0.4904</td>\n",
       "      <td id=\"T_b3915_row0_col3\" class=\"data row0 col3\" >-0.0440</td>\n",
       "      <td id=\"T_b3915_row0_col4\" class=\"data row0 col4\" >0.1026</td>\n",
       "      <td id=\"T_b3915_row0_col5\" class=\"data row0 col5\" >0.1097</td>\n",
       "    </tr>\n",
       "    <tr>\n",
       "      <th id=\"T_b3915_level0_row1\" class=\"row_heading level0 row1\" >1</th>\n",
       "      <td id=\"T_b3915_row1_col0\" class=\"data row1 col0\" >0.3671</td>\n",
       "      <td id=\"T_b3915_row1_col1\" class=\"data row1 col1\" >0.1817</td>\n",
       "      <td id=\"T_b3915_row1_col2\" class=\"data row1 col2\" >0.4262</td>\n",
       "      <td id=\"T_b3915_row1_col3\" class=\"data row1 col3\" >0.0062</td>\n",
       "      <td id=\"T_b3915_row1_col4\" class=\"data row1 col4\" >0.0922</td>\n",
       "      <td id=\"T_b3915_row1_col5\" class=\"data row1 col5\" >0.1050</td>\n",
       "    </tr>\n",
       "    <tr>\n",
       "      <th id=\"T_b3915_level0_row2\" class=\"row_heading level0 row2\" >2</th>\n",
       "      <td id=\"T_b3915_row2_col0\" class=\"data row2 col0\" >0.5312</td>\n",
       "      <td id=\"T_b3915_row2_col1\" class=\"data row2 col1\" >0.5999</td>\n",
       "      <td id=\"T_b3915_row2_col2\" class=\"data row2 col2\" >0.7745</td>\n",
       "      <td id=\"T_b3915_row2_col3\" class=\"data row2 col3\" >-0.0390</td>\n",
       "      <td id=\"T_b3915_row2_col4\" class=\"data row2 col4\" >0.1479</td>\n",
       "      <td id=\"T_b3915_row2_col5\" class=\"data row2 col5\" >0.1287</td>\n",
       "    </tr>\n",
       "    <tr>\n",
       "      <th id=\"T_b3915_level0_row3\" class=\"row_heading level0 row3\" >3</th>\n",
       "      <td id=\"T_b3915_row3_col0\" class=\"data row3 col0\" >0.4047</td>\n",
       "      <td id=\"T_b3915_row3_col1\" class=\"data row3 col1\" >0.2528</td>\n",
       "      <td id=\"T_b3915_row3_col2\" class=\"data row3 col2\" >0.5028</td>\n",
       "      <td id=\"T_b3915_row3_col3\" class=\"data row3 col3\" >0.0081</td>\n",
       "      <td id=\"T_b3915_row3_col4\" class=\"data row3 col4\" >0.1046</td>\n",
       "      <td id=\"T_b3915_row3_col5\" class=\"data row3 col5\" >0.1093</td>\n",
       "    </tr>\n",
       "    <tr>\n",
       "      <th id=\"T_b3915_level0_row4\" class=\"row_heading level0 row4\" >Mean</th>\n",
       "      <td id=\"T_b3915_row4_col0\" class=\"data row4 col0\" >0.4232</td>\n",
       "      <td id=\"T_b3915_row4_col1\" class=\"data row4 col1\" >0.3187</td>\n",
       "      <td id=\"T_b3915_row4_col2\" class=\"data row4 col2\" >0.5485</td>\n",
       "      <td id=\"T_b3915_row4_col3\" class=\"data row4 col3\" >-0.0172</td>\n",
       "      <td id=\"T_b3915_row4_col4\" class=\"data row4 col4\" >0.1118</td>\n",
       "      <td id=\"T_b3915_row4_col5\" class=\"data row4 col5\" >0.1132</td>\n",
       "    </tr>\n",
       "    <tr>\n",
       "      <th id=\"T_b3915_level0_row5\" class=\"row_heading level0 row5\" >Std</th>\n",
       "      <td id=\"T_b3915_row5_col0\" class=\"data row5 col0\" >0.0638</td>\n",
       "      <td id=\"T_b3915_row5_col1\" class=\"data row5 col1\" >0.1646</td>\n",
       "      <td id=\"T_b3915_row5_col2\" class=\"data row5 col2\" >0.1337</td>\n",
       "      <td id=\"T_b3915_row5_col3\" class=\"data row5 col3\" >0.0244</td>\n",
       "      <td id=\"T_b3915_row5_col4\" class=\"data row5 col4\" >0.0214</td>\n",
       "      <td id=\"T_b3915_row5_col5\" class=\"data row5 col5\" >0.0091</td>\n",
       "    </tr>\n",
       "  </tbody>\n",
       "</table>\n"
      ],
      "text/plain": [
       "<pandas.io.formats.style.Styler at 0x1472821abc40>"
      ]
     },
     "metadata": {},
     "output_type": "display_data"
    },
    {
     "data": {
      "text/html": [],
      "text/plain": [
       "<IPython.core.display.HTML object>"
      ]
     },
     "metadata": {},
     "output_type": "display_data"
    },
    {
     "name": "stdout",
     "output_type": "stream",
     "text": [
      "Fitting 4 folds for each of 50 candidates, totalling 200 fits\n"
     ]
    },
    {
     "data": {
      "text/html": [
       "<style type=\"text/css\">\n",
       "</style>\n",
       "<table id=\"T_b12e0\">\n",
       "  <thead>\n",
       "    <tr>\n",
       "      <th class=\"blank level0\" >&nbsp;</th>\n",
       "      <th id=\"T_b12e0_level0_col0\" class=\"col_heading level0 col0\" >Model</th>\n",
       "      <th id=\"T_b12e0_level0_col1\" class=\"col_heading level0 col1\" >MAE</th>\n",
       "      <th id=\"T_b12e0_level0_col2\" class=\"col_heading level0 col2\" >MSE</th>\n",
       "      <th id=\"T_b12e0_level0_col3\" class=\"col_heading level0 col3\" >RMSE</th>\n",
       "      <th id=\"T_b12e0_level0_col4\" class=\"col_heading level0 col4\" >R2</th>\n",
       "      <th id=\"T_b12e0_level0_col5\" class=\"col_heading level0 col5\" >RMSLE</th>\n",
       "      <th id=\"T_b12e0_level0_col6\" class=\"col_heading level0 col6\" >MAPE</th>\n",
       "    </tr>\n",
       "  </thead>\n",
       "  <tbody>\n",
       "    <tr>\n",
       "      <th id=\"T_b12e0_level0_row0\" class=\"row_heading level0 row0\" >0</th>\n",
       "      <td id=\"T_b12e0_row0_col0\" class=\"data row0 col0\" >Extreme Gradient Boosting</td>\n",
       "      <td id=\"T_b12e0_row0_col1\" class=\"data row0 col1\" >0.3847</td>\n",
       "      <td id=\"T_b12e0_row0_col2\" class=\"data row0 col2\" >0.2629</td>\n",
       "      <td id=\"T_b12e0_row0_col3\" class=\"data row0 col3\" >0.5127</td>\n",
       "      <td id=\"T_b12e0_row0_col4\" class=\"data row0 col4\" >-0.0011</td>\n",
       "      <td id=\"T_b12e0_row0_col5\" class=\"data row0 col5\" >0.1048</td>\n",
       "      <td id=\"T_b12e0_row0_col6\" class=\"data row0 col6\" >0.1043</td>\n",
       "    </tr>\n",
       "  </tbody>\n",
       "</table>\n"
      ],
      "text/plain": [
       "<pandas.io.formats.style.Styler at 0x1472aaf78250>"
      ]
     },
     "metadata": {},
     "output_type": "display_data"
    },
    {
     "name": "stdout",
     "output_type": "stream",
     "text": [
      "3\n",
      "8881 1024\n"
     ]
    },
    {
     "data": {
      "text/html": [],
      "text/plain": [
       "<IPython.core.display.HTML object>"
      ]
     },
     "metadata": {},
     "output_type": "display_data"
    },
    {
     "data": {
      "text/html": [
       "<style type=\"text/css\">\n",
       "#T_9652f_row4_col0, #T_9652f_row4_col1, #T_9652f_row4_col2, #T_9652f_row4_col3, #T_9652f_row4_col4, #T_9652f_row4_col5 {\n",
       "  background: yellow;\n",
       "}\n",
       "</style>\n",
       "<table id=\"T_9652f\">\n",
       "  <thead>\n",
       "    <tr>\n",
       "      <th class=\"blank level0\" >&nbsp;</th>\n",
       "      <th id=\"T_9652f_level0_col0\" class=\"col_heading level0 col0\" >MAE</th>\n",
       "      <th id=\"T_9652f_level0_col1\" class=\"col_heading level0 col1\" >MSE</th>\n",
       "      <th id=\"T_9652f_level0_col2\" class=\"col_heading level0 col2\" >RMSE</th>\n",
       "      <th id=\"T_9652f_level0_col3\" class=\"col_heading level0 col3\" >R2</th>\n",
       "      <th id=\"T_9652f_level0_col4\" class=\"col_heading level0 col4\" >RMSLE</th>\n",
       "      <th id=\"T_9652f_level0_col5\" class=\"col_heading level0 col5\" >MAPE</th>\n",
       "    </tr>\n",
       "    <tr>\n",
       "      <th class=\"index_name level0\" >Fold</th>\n",
       "      <th class=\"blank col0\" >&nbsp;</th>\n",
       "      <th class=\"blank col1\" >&nbsp;</th>\n",
       "      <th class=\"blank col2\" >&nbsp;</th>\n",
       "      <th class=\"blank col3\" >&nbsp;</th>\n",
       "      <th class=\"blank col4\" >&nbsp;</th>\n",
       "      <th class=\"blank col5\" >&nbsp;</th>\n",
       "    </tr>\n",
       "  </thead>\n",
       "  <tbody>\n",
       "    <tr>\n",
       "      <th id=\"T_9652f_level0_row0\" class=\"row_heading level0 row0\" >0</th>\n",
       "      <td id=\"T_9652f_row0_col0\" class=\"data row0 col0\" >0.3928</td>\n",
       "      <td id=\"T_9652f_row0_col1\" class=\"data row0 col1\" >0.3104</td>\n",
       "      <td id=\"T_9652f_row0_col2\" class=\"data row0 col2\" >0.5571</td>\n",
       "      <td id=\"T_9652f_row0_col3\" class=\"data row0 col3\" >-0.1815</td>\n",
       "      <td id=\"T_9652f_row0_col4\" class=\"data row0 col4\" >0.1146</td>\n",
       "      <td id=\"T_9652f_row0_col5\" class=\"data row0 col5\" >0.1022</td>\n",
       "    </tr>\n",
       "    <tr>\n",
       "      <th id=\"T_9652f_level0_row1\" class=\"row_heading level0 row1\" >1</th>\n",
       "      <td id=\"T_9652f_row1_col0\" class=\"data row1 col0\" >0.4972</td>\n",
       "      <td id=\"T_9652f_row1_col1\" class=\"data row1 col1\" >0.3892</td>\n",
       "      <td id=\"T_9652f_row1_col2\" class=\"data row1 col2\" >0.6238</td>\n",
       "      <td id=\"T_9652f_row1_col3\" class=\"data row1 col3\" >-0.6891</td>\n",
       "      <td id=\"T_9652f_row1_col4\" class=\"data row1 col4\" >0.1305</td>\n",
       "      <td id=\"T_9652f_row1_col5\" class=\"data row1 col5\" >0.1403</td>\n",
       "    </tr>\n",
       "    <tr>\n",
       "      <th id=\"T_9652f_level0_row2\" class=\"row_heading level0 row2\" >2</th>\n",
       "      <td id=\"T_9652f_row2_col0\" class=\"data row2 col0\" >0.4868</td>\n",
       "      <td id=\"T_9652f_row2_col1\" class=\"data row2 col1\" >0.4370</td>\n",
       "      <td id=\"T_9652f_row2_col2\" class=\"data row2 col2\" >0.6611</td>\n",
       "      <td id=\"T_9652f_row2_col3\" class=\"data row2 col3\" >-1.3906</td>\n",
       "      <td id=\"T_9652f_row2_col4\" class=\"data row2 col4\" >0.1387</td>\n",
       "      <td id=\"T_9652f_row2_col5\" class=\"data row2 col5\" >0.1345</td>\n",
       "    </tr>\n",
       "    <tr>\n",
       "      <th id=\"T_9652f_level0_row3\" class=\"row_heading level0 row3\" >3</th>\n",
       "      <td id=\"T_9652f_row3_col0\" class=\"data row3 col0\" >0.5579</td>\n",
       "      <td id=\"T_9652f_row3_col1\" class=\"data row3 col1\" >0.6891</td>\n",
       "      <td id=\"T_9652f_row3_col2\" class=\"data row3 col2\" >0.8301</td>\n",
       "      <td id=\"T_9652f_row3_col3\" class=\"data row3 col3\" >-0.1933</td>\n",
       "      <td id=\"T_9652f_row3_col4\" class=\"data row3 col4\" >0.1623</td>\n",
       "      <td id=\"T_9652f_row3_col5\" class=\"data row3 col5\" >0.1331</td>\n",
       "    </tr>\n",
       "    <tr>\n",
       "      <th id=\"T_9652f_level0_row4\" class=\"row_heading level0 row4\" >Mean</th>\n",
       "      <td id=\"T_9652f_row4_col0\" class=\"data row4 col0\" >0.4837</td>\n",
       "      <td id=\"T_9652f_row4_col1\" class=\"data row4 col1\" >0.4564</td>\n",
       "      <td id=\"T_9652f_row4_col2\" class=\"data row4 col2\" >0.6680</td>\n",
       "      <td id=\"T_9652f_row4_col3\" class=\"data row4 col3\" >-0.6136</td>\n",
       "      <td id=\"T_9652f_row4_col4\" class=\"data row4 col4\" >0.1365</td>\n",
       "      <td id=\"T_9652f_row4_col5\" class=\"data row4 col5\" >0.1275</td>\n",
       "    </tr>\n",
       "    <tr>\n",
       "      <th id=\"T_9652f_level0_row5\" class=\"row_heading level0 row5\" >Std</th>\n",
       "      <td id=\"T_9652f_row5_col0\" class=\"data row5 col0\" >0.0591</td>\n",
       "      <td id=\"T_9652f_row5_col1\" class=\"data row5 col1\" >0.1417</td>\n",
       "      <td id=\"T_9652f_row5_col2\" class=\"data row5 col2\" >0.1007</td>\n",
       "      <td id=\"T_9652f_row5_col3\" class=\"data row5 col3\" >0.4931</td>\n",
       "      <td id=\"T_9652f_row5_col4\" class=\"data row5 col4\" >0.0172</td>\n",
       "      <td id=\"T_9652f_row5_col5\" class=\"data row5 col5\" >0.0148</td>\n",
       "    </tr>\n",
       "  </tbody>\n",
       "</table>\n"
      ],
      "text/plain": [
       "<pandas.io.formats.style.Styler at 0x1472ab2247c0>"
      ]
     },
     "metadata": {},
     "output_type": "display_data"
    },
    {
     "data": {
      "text/html": [],
      "text/plain": [
       "<IPython.core.display.HTML object>"
      ]
     },
     "metadata": {},
     "output_type": "display_data"
    },
    {
     "data": {
      "text/html": [],
      "text/plain": [
       "<IPython.core.display.HTML object>"
      ]
     },
     "metadata": {},
     "output_type": "display_data"
    },
    {
     "data": {
      "text/html": [
       "<style type=\"text/css\">\n",
       "#T_0f7e5_row4_col0, #T_0f7e5_row4_col1, #T_0f7e5_row4_col2, #T_0f7e5_row4_col3, #T_0f7e5_row4_col4, #T_0f7e5_row4_col5 {\n",
       "  background: yellow;\n",
       "}\n",
       "</style>\n",
       "<table id=\"T_0f7e5\">\n",
       "  <thead>\n",
       "    <tr>\n",
       "      <th class=\"blank level0\" >&nbsp;</th>\n",
       "      <th id=\"T_0f7e5_level0_col0\" class=\"col_heading level0 col0\" >MAE</th>\n",
       "      <th id=\"T_0f7e5_level0_col1\" class=\"col_heading level0 col1\" >MSE</th>\n",
       "      <th id=\"T_0f7e5_level0_col2\" class=\"col_heading level0 col2\" >RMSE</th>\n",
       "      <th id=\"T_0f7e5_level0_col3\" class=\"col_heading level0 col3\" >R2</th>\n",
       "      <th id=\"T_0f7e5_level0_col4\" class=\"col_heading level0 col4\" >RMSLE</th>\n",
       "      <th id=\"T_0f7e5_level0_col5\" class=\"col_heading level0 col5\" >MAPE</th>\n",
       "    </tr>\n",
       "    <tr>\n",
       "      <th class=\"index_name level0\" >Fold</th>\n",
       "      <th class=\"blank col0\" >&nbsp;</th>\n",
       "      <th class=\"blank col1\" >&nbsp;</th>\n",
       "      <th class=\"blank col2\" >&nbsp;</th>\n",
       "      <th class=\"blank col3\" >&nbsp;</th>\n",
       "      <th class=\"blank col4\" >&nbsp;</th>\n",
       "      <th class=\"blank col5\" >&nbsp;</th>\n",
       "    </tr>\n",
       "  </thead>\n",
       "  <tbody>\n",
       "    <tr>\n",
       "      <th id=\"T_0f7e5_level0_row0\" class=\"row_heading level0 row0\" >0</th>\n",
       "      <td id=\"T_0f7e5_row0_col0\" class=\"data row0 col0\" >0.3864</td>\n",
       "      <td id=\"T_0f7e5_row0_col1\" class=\"data row0 col1\" >0.2631</td>\n",
       "      <td id=\"T_0f7e5_row0_col2\" class=\"data row0 col2\" >0.5130</td>\n",
       "      <td id=\"T_0f7e5_row0_col3\" class=\"data row0 col3\" >-0.0018</td>\n",
       "      <td id=\"T_0f7e5_row0_col4\" class=\"data row0 col4\" >0.1049</td>\n",
       "      <td id=\"T_0f7e5_row0_col5\" class=\"data row0 col5\" >0.1050</td>\n",
       "    </tr>\n",
       "    <tr>\n",
       "      <th id=\"T_0f7e5_level0_row1\" class=\"row_heading level0 row1\" >1</th>\n",
       "      <td id=\"T_0f7e5_row1_col0\" class=\"data row1 col0\" >0.3800</td>\n",
       "      <td id=\"T_0f7e5_row1_col1\" class=\"data row1 col1\" >0.2356</td>\n",
       "      <td id=\"T_0f7e5_row1_col2\" class=\"data row1 col2\" >0.4854</td>\n",
       "      <td id=\"T_0f7e5_row1_col3\" class=\"data row1 col3\" >-0.0226</td>\n",
       "      <td id=\"T_0f7e5_row1_col4\" class=\"data row1 col4\" >0.1012</td>\n",
       "      <td id=\"T_0f7e5_row1_col5\" class=\"data row1 col5\" >0.1063</td>\n",
       "    </tr>\n",
       "    <tr>\n",
       "      <th id=\"T_0f7e5_level0_row2\" class=\"row_heading level0 row2\" >2</th>\n",
       "      <td id=\"T_0f7e5_row2_col0\" class=\"data row2 col0\" >0.3668</td>\n",
       "      <td id=\"T_0f7e5_row2_col1\" class=\"data row2 col1\" >0.1825</td>\n",
       "      <td id=\"T_0f7e5_row2_col2\" class=\"data row2 col2\" >0.4272</td>\n",
       "      <td id=\"T_0f7e5_row2_col3\" class=\"data row2 col3\" >0.0016</td>\n",
       "      <td id=\"T_0f7e5_row2_col4\" class=\"data row2 col4\" >0.0921</td>\n",
       "      <td id=\"T_0f7e5_row2_col5\" class=\"data row2 col5\" >0.1042</td>\n",
       "    </tr>\n",
       "    <tr>\n",
       "      <th id=\"T_0f7e5_level0_row3\" class=\"row_heading level0 row3\" >3</th>\n",
       "      <td id=\"T_0f7e5_row3_col0\" class=\"data row3 col0\" >0.5349</td>\n",
       "      <td id=\"T_0f7e5_row3_col1\" class=\"data row3 col1\" >0.6031</td>\n",
       "      <td id=\"T_0f7e5_row3_col2\" class=\"data row3 col2\" >0.7766</td>\n",
       "      <td id=\"T_0f7e5_row3_col3\" class=\"data row3 col3\" >-0.0444</td>\n",
       "      <td id=\"T_0f7e5_row3_col4\" class=\"data row3 col4\" >0.1484</td>\n",
       "      <td id=\"T_0f7e5_row3_col5\" class=\"data row3 col5\" >0.1298</td>\n",
       "    </tr>\n",
       "    <tr>\n",
       "      <th id=\"T_0f7e5_level0_row4\" class=\"row_heading level0 row4\" >Mean</th>\n",
       "      <td id=\"T_0f7e5_row4_col0\" class=\"data row4 col0\" >0.4170</td>\n",
       "      <td id=\"T_0f7e5_row4_col1\" class=\"data row4 col1\" >0.3211</td>\n",
       "      <td id=\"T_0f7e5_row4_col2\" class=\"data row4 col2\" >0.5505</td>\n",
       "      <td id=\"T_0f7e5_row4_col3\" class=\"data row4 col3\" >-0.0168</td>\n",
       "      <td id=\"T_0f7e5_row4_col4\" class=\"data row4 col4\" >0.1116</td>\n",
       "      <td id=\"T_0f7e5_row4_col5\" class=\"data row4 col5\" >0.1113</td>\n",
       "    </tr>\n",
       "    <tr>\n",
       "      <th id=\"T_0f7e5_level0_row5\" class=\"row_heading level0 row5\" >Std</th>\n",
       "      <td id=\"T_0f7e5_row5_col0\" class=\"data row5 col0\" >0.0684</td>\n",
       "      <td id=\"T_0f7e5_row5_col1\" class=\"data row5 col1\" >0.1654</td>\n",
       "      <td id=\"T_0f7e5_row5_col2\" class=\"data row5 col2\" >0.1341</td>\n",
       "      <td id=\"T_0f7e5_row5_col3\" class=\"data row5 col3\" >0.0184</td>\n",
       "      <td id=\"T_0f7e5_row5_col4\" class=\"data row5 col4\" >0.0217</td>\n",
       "      <td id=\"T_0f7e5_row5_col5\" class=\"data row5 col5\" >0.0107</td>\n",
       "    </tr>\n",
       "  </tbody>\n",
       "</table>\n"
      ],
      "text/plain": [
       "<pandas.io.formats.style.Styler at 0x147282278f70>"
      ]
     },
     "metadata": {},
     "output_type": "display_data"
    },
    {
     "data": {
      "text/html": [],
      "text/plain": [
       "<IPython.core.display.HTML object>"
      ]
     },
     "metadata": {},
     "output_type": "display_data"
    },
    {
     "name": "stdout",
     "output_type": "stream",
     "text": [
      "Fitting 4 folds for each of 50 candidates, totalling 200 fits\n"
     ]
    },
    {
     "data": {
      "text/html": [
       "<style type=\"text/css\">\n",
       "</style>\n",
       "<table id=\"T_0e709\">\n",
       "  <thead>\n",
       "    <tr>\n",
       "      <th class=\"blank level0\" >&nbsp;</th>\n",
       "      <th id=\"T_0e709_level0_col0\" class=\"col_heading level0 col0\" >Model</th>\n",
       "      <th id=\"T_0e709_level0_col1\" class=\"col_heading level0 col1\" >MAE</th>\n",
       "      <th id=\"T_0e709_level0_col2\" class=\"col_heading level0 col2\" >MSE</th>\n",
       "      <th id=\"T_0e709_level0_col3\" class=\"col_heading level0 col3\" >RMSE</th>\n",
       "      <th id=\"T_0e709_level0_col4\" class=\"col_heading level0 col4\" >R2</th>\n",
       "      <th id=\"T_0e709_level0_col5\" class=\"col_heading level0 col5\" >RMSLE</th>\n",
       "      <th id=\"T_0e709_level0_col6\" class=\"col_heading level0 col6\" >MAPE</th>\n",
       "    </tr>\n",
       "  </thead>\n",
       "  <tbody>\n",
       "    <tr>\n",
       "      <th id=\"T_0e709_level0_row0\" class=\"row_heading level0 row0\" >0</th>\n",
       "      <td id=\"T_0e709_row0_col0\" class=\"data row0 col0\" >Extreme Gradient Boosting</td>\n",
       "      <td id=\"T_0e709_row0_col1\" class=\"data row0 col1\" >0.4053</td>\n",
       "      <td id=\"T_0e709_row0_col2\" class=\"data row0 col2\" >0.2553</td>\n",
       "      <td id=\"T_0e709_row0_col3\" class=\"data row0 col3\" >0.5053</td>\n",
       "      <td id=\"T_0e709_row0_col4\" class=\"data row0 col4\" >-0.0016</td>\n",
       "      <td id=\"T_0e709_row0_col5\" class=\"data row0 col5\" >0.1051</td>\n",
       "      <td id=\"T_0e709_row0_col6\" class=\"data row0 col6\" >0.1093</td>\n",
       "    </tr>\n",
       "  </tbody>\n",
       "</table>\n"
      ],
      "text/plain": [
       "<pandas.io.formats.style.Styler at 0x1472aaf75760>"
      ]
     },
     "metadata": {},
     "output_type": "display_data"
    },
    {
     "name": "stdout",
     "output_type": "stream",
     "text": [
      "4\n",
      "8807 1098\n"
     ]
    },
    {
     "data": {
      "text/html": [],
      "text/plain": [
       "<IPython.core.display.HTML object>"
      ]
     },
     "metadata": {},
     "output_type": "display_data"
    },
    {
     "data": {
      "text/html": [
       "<style type=\"text/css\">\n",
       "#T_217bd_row4_col0, #T_217bd_row4_col1, #T_217bd_row4_col2, #T_217bd_row4_col3, #T_217bd_row4_col4, #T_217bd_row4_col5 {\n",
       "  background: yellow;\n",
       "}\n",
       "</style>\n",
       "<table id=\"T_217bd\">\n",
       "  <thead>\n",
       "    <tr>\n",
       "      <th class=\"blank level0\" >&nbsp;</th>\n",
       "      <th id=\"T_217bd_level0_col0\" class=\"col_heading level0 col0\" >MAE</th>\n",
       "      <th id=\"T_217bd_level0_col1\" class=\"col_heading level0 col1\" >MSE</th>\n",
       "      <th id=\"T_217bd_level0_col2\" class=\"col_heading level0 col2\" >RMSE</th>\n",
       "      <th id=\"T_217bd_level0_col3\" class=\"col_heading level0 col3\" >R2</th>\n",
       "      <th id=\"T_217bd_level0_col4\" class=\"col_heading level0 col4\" >RMSLE</th>\n",
       "      <th id=\"T_217bd_level0_col5\" class=\"col_heading level0 col5\" >MAPE</th>\n",
       "    </tr>\n",
       "    <tr>\n",
       "      <th class=\"index_name level0\" >Fold</th>\n",
       "      <th class=\"blank col0\" >&nbsp;</th>\n",
       "      <th class=\"blank col1\" >&nbsp;</th>\n",
       "      <th class=\"blank col2\" >&nbsp;</th>\n",
       "      <th class=\"blank col3\" >&nbsp;</th>\n",
       "      <th class=\"blank col4\" >&nbsp;</th>\n",
       "      <th class=\"blank col5\" >&nbsp;</th>\n",
       "    </tr>\n",
       "  </thead>\n",
       "  <tbody>\n",
       "    <tr>\n",
       "      <th id=\"T_217bd_level0_row0\" class=\"row_heading level0 row0\" >0</th>\n",
       "      <td id=\"T_217bd_row0_col0\" class=\"data row0 col0\" >0.4103</td>\n",
       "      <td id=\"T_217bd_row0_col1\" class=\"data row0 col1\" >0.3529</td>\n",
       "      <td id=\"T_217bd_row0_col2\" class=\"data row0 col2\" >0.5940</td>\n",
       "      <td id=\"T_217bd_row0_col3\" class=\"data row0 col3\" >-0.3434</td>\n",
       "      <td id=\"T_217bd_row0_col4\" class=\"data row0 col4\" >0.1228</td>\n",
       "      <td id=\"T_217bd_row0_col5\" class=\"data row0 col5\" >0.1053</td>\n",
       "    </tr>\n",
       "    <tr>\n",
       "      <th id=\"T_217bd_level0_row1\" class=\"row_heading level0 row1\" >1</th>\n",
       "      <td id=\"T_217bd_row1_col0\" class=\"data row1 col0\" >0.4631</td>\n",
       "      <td id=\"T_217bd_row1_col1\" class=\"data row1 col1\" >0.3707</td>\n",
       "      <td id=\"T_217bd_row1_col2\" class=\"data row1 col2\" >0.6088</td>\n",
       "      <td id=\"T_217bd_row1_col3\" class=\"data row1 col3\" >-0.6087</td>\n",
       "      <td id=\"T_217bd_row1_col4\" class=\"data row1 col4\" >0.1261</td>\n",
       "      <td id=\"T_217bd_row1_col5\" class=\"data row1 col5\" >0.1291</td>\n",
       "    </tr>\n",
       "    <tr>\n",
       "      <th id=\"T_217bd_level0_row2\" class=\"row_heading level0 row2\" >2</th>\n",
       "      <td id=\"T_217bd_row2_col0\" class=\"data row2 col0\" >0.3727</td>\n",
       "      <td id=\"T_217bd_row2_col1\" class=\"data row2 col1\" >0.2373</td>\n",
       "      <td id=\"T_217bd_row2_col2\" class=\"data row2 col2\" >0.4872</td>\n",
       "      <td id=\"T_217bd_row2_col3\" class=\"data row2 col3\" >-0.2982</td>\n",
       "      <td id=\"T_217bd_row2_col4\" class=\"data row2 col4\" >0.1042</td>\n",
       "      <td id=\"T_217bd_row2_col5\" class=\"data row2 col5\" >0.1024</td>\n",
       "    </tr>\n",
       "    <tr>\n",
       "      <th id=\"T_217bd_level0_row3\" class=\"row_heading level0 row3\" >3</th>\n",
       "      <td id=\"T_217bd_row3_col0\" class=\"data row3 col0\" >0.4284</td>\n",
       "      <td id=\"T_217bd_row3_col1\" class=\"data row3 col1\" >0.3113</td>\n",
       "      <td id=\"T_217bd_row3_col2\" class=\"data row3 col2\" >0.5579</td>\n",
       "      <td id=\"T_217bd_row3_col3\" class=\"data row3 col3\" >-0.2212</td>\n",
       "      <td id=\"T_217bd_row3_col4\" class=\"data row3 col4\" >0.1172</td>\n",
       "      <td id=\"T_217bd_row3_col5\" class=\"data row3 col5\" >0.1129</td>\n",
       "    </tr>\n",
       "    <tr>\n",
       "      <th id=\"T_217bd_level0_row4\" class=\"row_heading level0 row4\" >Mean</th>\n",
       "      <td id=\"T_217bd_row4_col0\" class=\"data row4 col0\" >0.4186</td>\n",
       "      <td id=\"T_217bd_row4_col1\" class=\"data row4 col1\" >0.3180</td>\n",
       "      <td id=\"T_217bd_row4_col2\" class=\"data row4 col2\" >0.5620</td>\n",
       "      <td id=\"T_217bd_row4_col3\" class=\"data row4 col3\" >-0.3679</td>\n",
       "      <td id=\"T_217bd_row4_col4\" class=\"data row4 col4\" >0.1176</td>\n",
       "      <td id=\"T_217bd_row4_col5\" class=\"data row4 col5\" >0.1124</td>\n",
       "    </tr>\n",
       "    <tr>\n",
       "      <th id=\"T_217bd_level0_row5\" class=\"row_heading level0 row5\" >Std</th>\n",
       "      <td id=\"T_217bd_row5_col0\" class=\"data row5 col0\" >0.0326</td>\n",
       "      <td id=\"T_217bd_row5_col1\" class=\"data row5 col1\" >0.0513</td>\n",
       "      <td id=\"T_217bd_row5_col2\" class=\"data row5 col2\" >0.0470</td>\n",
       "      <td id=\"T_217bd_row5_col3\" class=\"data row5 col3\" >0.1458</td>\n",
       "      <td id=\"T_217bd_row5_col4\" class=\"data row5 col4\" >0.0083</td>\n",
       "      <td id=\"T_217bd_row5_col5\" class=\"data row5 col5\" >0.0104</td>\n",
       "    </tr>\n",
       "  </tbody>\n",
       "</table>\n"
      ],
      "text/plain": [
       "<pandas.io.formats.style.Styler at 0x1472ab02c610>"
      ]
     },
     "metadata": {},
     "output_type": "display_data"
    },
    {
     "data": {
      "text/html": [],
      "text/plain": [
       "<IPython.core.display.HTML object>"
      ]
     },
     "metadata": {},
     "output_type": "display_data"
    },
    {
     "data": {
      "text/html": [],
      "text/plain": [
       "<IPython.core.display.HTML object>"
      ]
     },
     "metadata": {},
     "output_type": "display_data"
    },
    {
     "data": {
      "text/html": [
       "<style type=\"text/css\">\n",
       "#T_5ba95_row4_col0, #T_5ba95_row4_col1, #T_5ba95_row4_col2, #T_5ba95_row4_col3, #T_5ba95_row4_col4, #T_5ba95_row4_col5 {\n",
       "  background: yellow;\n",
       "}\n",
       "</style>\n",
       "<table id=\"T_5ba95\">\n",
       "  <thead>\n",
       "    <tr>\n",
       "      <th class=\"blank level0\" >&nbsp;</th>\n",
       "      <th id=\"T_5ba95_level0_col0\" class=\"col_heading level0 col0\" >MAE</th>\n",
       "      <th id=\"T_5ba95_level0_col1\" class=\"col_heading level0 col1\" >MSE</th>\n",
       "      <th id=\"T_5ba95_level0_col2\" class=\"col_heading level0 col2\" >RMSE</th>\n",
       "      <th id=\"T_5ba95_level0_col3\" class=\"col_heading level0 col3\" >R2</th>\n",
       "      <th id=\"T_5ba95_level0_col4\" class=\"col_heading level0 col4\" >RMSLE</th>\n",
       "      <th id=\"T_5ba95_level0_col5\" class=\"col_heading level0 col5\" >MAPE</th>\n",
       "    </tr>\n",
       "    <tr>\n",
       "      <th class=\"index_name level0\" >Fold</th>\n",
       "      <th class=\"blank col0\" >&nbsp;</th>\n",
       "      <th class=\"blank col1\" >&nbsp;</th>\n",
       "      <th class=\"blank col2\" >&nbsp;</th>\n",
       "      <th class=\"blank col3\" >&nbsp;</th>\n",
       "      <th class=\"blank col4\" >&nbsp;</th>\n",
       "      <th class=\"blank col5\" >&nbsp;</th>\n",
       "    </tr>\n",
       "  </thead>\n",
       "  <tbody>\n",
       "    <tr>\n",
       "      <th id=\"T_5ba95_level0_row0\" class=\"row_heading level0 row0\" >0</th>\n",
       "      <td id=\"T_5ba95_row0_col0\" class=\"data row0 col0\" >0.3739</td>\n",
       "      <td id=\"T_5ba95_row0_col1\" class=\"data row0 col1\" >0.2627</td>\n",
       "      <td id=\"T_5ba95_row0_col2\" class=\"data row0 col2\" >0.5126</td>\n",
       "      <td id=\"T_5ba95_row0_col3\" class=\"data row0 col3\" >-0.0002</td>\n",
       "      <td id=\"T_5ba95_row0_col4\" class=\"data row0 col4\" >0.1043</td>\n",
       "      <td id=\"T_5ba95_row0_col5\" class=\"data row0 col5\" >0.1001</td>\n",
       "    </tr>\n",
       "    <tr>\n",
       "      <th id=\"T_5ba95_level0_row1\" class=\"row_heading level0 row1\" >1</th>\n",
       "      <td id=\"T_5ba95_row1_col0\" class=\"data row1 col0\" >0.3732</td>\n",
       "      <td id=\"T_5ba95_row1_col1\" class=\"data row1 col1\" >0.2327</td>\n",
       "      <td id=\"T_5ba95_row1_col2\" class=\"data row1 col2\" >0.4824</td>\n",
       "      <td id=\"T_5ba95_row1_col3\" class=\"data row1 col3\" >-0.0101</td>\n",
       "      <td id=\"T_5ba95_row1_col4\" class=\"data row1 col4\" >0.1002</td>\n",
       "      <td id=\"T_5ba95_row1_col5\" class=\"data row1 col5\" >0.1038</td>\n",
       "    </tr>\n",
       "    <tr>\n",
       "      <th id=\"T_5ba95_level0_row2\" class=\"row_heading level0 row2\" >2</th>\n",
       "      <td id=\"T_5ba95_row2_col0\" class=\"data row2 col0\" >0.3596</td>\n",
       "      <td id=\"T_5ba95_row2_col1\" class=\"data row2 col1\" >0.1825</td>\n",
       "      <td id=\"T_5ba95_row2_col2\" class=\"data row2 col2\" >0.4272</td>\n",
       "      <td id=\"T_5ba95_row2_col3\" class=\"data row2 col3\" >0.0017</td>\n",
       "      <td id=\"T_5ba95_row2_col4\" class=\"data row2 col4\" >0.0918</td>\n",
       "      <td id=\"T_5ba95_row2_col5\" class=\"data row2 col5\" >0.1012</td>\n",
       "    </tr>\n",
       "    <tr>\n",
       "      <th id=\"T_5ba95_level0_row3\" class=\"row_heading level0 row3\" >3</th>\n",
       "      <td id=\"T_5ba95_row3_col0\" class=\"data row3 col0\" >0.3986</td>\n",
       "      <td id=\"T_5ba95_row3_col1\" class=\"data row3 col1\" >0.2556</td>\n",
       "      <td id=\"T_5ba95_row3_col2\" class=\"data row3 col2\" >0.5056</td>\n",
       "      <td id=\"T_5ba95_row3_col3\" class=\"data row3 col3\" >-0.0029</td>\n",
       "      <td id=\"T_5ba95_row3_col4\" class=\"data row3 col4\" >0.1048</td>\n",
       "      <td id=\"T_5ba95_row3_col5\" class=\"data row3 col5\" >0.1065</td>\n",
       "    </tr>\n",
       "    <tr>\n",
       "      <th id=\"T_5ba95_level0_row4\" class=\"row_heading level0 row4\" >Mean</th>\n",
       "      <td id=\"T_5ba95_row4_col0\" class=\"data row4 col0\" >0.3763</td>\n",
       "      <td id=\"T_5ba95_row4_col1\" class=\"data row4 col1\" >0.2334</td>\n",
       "      <td id=\"T_5ba95_row4_col2\" class=\"data row4 col2\" >0.4819</td>\n",
       "      <td id=\"T_5ba95_row4_col3\" class=\"data row4 col3\" >-0.0029</td>\n",
       "      <td id=\"T_5ba95_row4_col4\" class=\"data row4 col4\" >0.1003</td>\n",
       "      <td id=\"T_5ba95_row4_col5\" class=\"data row4 col5\" >0.1029</td>\n",
       "    </tr>\n",
       "    <tr>\n",
       "      <th id=\"T_5ba95_level0_row5\" class=\"row_heading level0 row5\" >Std</th>\n",
       "      <td id=\"T_5ba95_row5_col0\" class=\"data row5 col0\" >0.0141</td>\n",
       "      <td id=\"T_5ba95_row5_col1\" class=\"data row5 col1\" >0.0314</td>\n",
       "      <td id=\"T_5ba95_row5_col2\" class=\"data row5 col2\" >0.0335</td>\n",
       "      <td id=\"T_5ba95_row5_col3\" class=\"data row5 col3\" >0.0045</td>\n",
       "      <td id=\"T_5ba95_row5_col4\" class=\"data row5 col4\" >0.0052</td>\n",
       "      <td id=\"T_5ba95_row5_col5\" class=\"data row5 col5\" >0.0025</td>\n",
       "    </tr>\n",
       "  </tbody>\n",
       "</table>\n"
      ],
      "text/plain": [
       "<pandas.io.formats.style.Styler at 0x1472ab2ba550>"
      ]
     },
     "metadata": {},
     "output_type": "display_data"
    },
    {
     "data": {
      "text/html": [],
      "text/plain": [
       "<IPython.core.display.HTML object>"
      ]
     },
     "metadata": {},
     "output_type": "display_data"
    },
    {
     "name": "stdout",
     "output_type": "stream",
     "text": [
      "Fitting 4 folds for each of 50 candidates, totalling 200 fits\n"
     ]
    },
    {
     "data": {
      "text/html": [
       "<style type=\"text/css\">\n",
       "</style>\n",
       "<table id=\"T_d162c\">\n",
       "  <thead>\n",
       "    <tr>\n",
       "      <th class=\"blank level0\" >&nbsp;</th>\n",
       "      <th id=\"T_d162c_level0_col0\" class=\"col_heading level0 col0\" >Model</th>\n",
       "      <th id=\"T_d162c_level0_col1\" class=\"col_heading level0 col1\" >MAE</th>\n",
       "      <th id=\"T_d162c_level0_col2\" class=\"col_heading level0 col2\" >MSE</th>\n",
       "      <th id=\"T_d162c_level0_col3\" class=\"col_heading level0 col3\" >RMSE</th>\n",
       "      <th id=\"T_d162c_level0_col4\" class=\"col_heading level0 col4\" >R2</th>\n",
       "      <th id=\"T_d162c_level0_col5\" class=\"col_heading level0 col5\" >RMSLE</th>\n",
       "      <th id=\"T_d162c_level0_col6\" class=\"col_heading level0 col6\" >MAPE</th>\n",
       "    </tr>\n",
       "  </thead>\n",
       "  <tbody>\n",
       "    <tr>\n",
       "      <th id=\"T_d162c_level0_row0\" class=\"row_heading level0 row0\" >0</th>\n",
       "      <td id=\"T_d162c_row0_col0\" class=\"data row0 col0\" >Extreme Gradient Boosting</td>\n",
       "      <td id=\"T_d162c_row0_col1\" class=\"data row0 col1\" >0.5350</td>\n",
       "      <td id=\"T_d162c_row0_col2\" class=\"data row0 col2\" >0.6099</td>\n",
       "      <td id=\"T_d162c_row0_col3\" class=\"data row0 col3\" >0.7810</td>\n",
       "      <td id=\"T_d162c_row0_col4\" class=\"data row0 col4\" >-0.0563</td>\n",
       "      <td id=\"T_d162c_row0_col5\" class=\"data row0 col5\" >0.1492</td>\n",
       "      <td id=\"T_d162c_row0_col6\" class=\"data row0 col6\" >0.1295</td>\n",
       "    </tr>\n",
       "  </tbody>\n",
       "</table>\n"
      ],
      "text/plain": [
       "<pandas.io.formats.style.Styler at 0x1472ab16d3d0>"
      ]
     },
     "metadata": {},
     "output_type": "display_data"
    },
    {
     "name": "stdout",
     "output_type": "stream",
     "text": [
      "5\n",
      "8188 1717\n"
     ]
    },
    {
     "data": {
      "text/html": [],
      "text/plain": [
       "<IPython.core.display.HTML object>"
      ]
     },
     "metadata": {},
     "output_type": "display_data"
    },
    {
     "data": {
      "text/html": [
       "<style type=\"text/css\">\n",
       "#T_1b24f_row4_col0, #T_1b24f_row4_col1, #T_1b24f_row4_col2, #T_1b24f_row4_col3, #T_1b24f_row4_col4, #T_1b24f_row4_col5 {\n",
       "  background: yellow;\n",
       "}\n",
       "</style>\n",
       "<table id=\"T_1b24f\">\n",
       "  <thead>\n",
       "    <tr>\n",
       "      <th class=\"blank level0\" >&nbsp;</th>\n",
       "      <th id=\"T_1b24f_level0_col0\" class=\"col_heading level0 col0\" >MAE</th>\n",
       "      <th id=\"T_1b24f_level0_col1\" class=\"col_heading level0 col1\" >MSE</th>\n",
       "      <th id=\"T_1b24f_level0_col2\" class=\"col_heading level0 col2\" >RMSE</th>\n",
       "      <th id=\"T_1b24f_level0_col3\" class=\"col_heading level0 col3\" >R2</th>\n",
       "      <th id=\"T_1b24f_level0_col4\" class=\"col_heading level0 col4\" >RMSLE</th>\n",
       "      <th id=\"T_1b24f_level0_col5\" class=\"col_heading level0 col5\" >MAPE</th>\n",
       "    </tr>\n",
       "    <tr>\n",
       "      <th class=\"index_name level0\" >Fold</th>\n",
       "      <th class=\"blank col0\" >&nbsp;</th>\n",
       "      <th class=\"blank col1\" >&nbsp;</th>\n",
       "      <th class=\"blank col2\" >&nbsp;</th>\n",
       "      <th class=\"blank col3\" >&nbsp;</th>\n",
       "      <th class=\"blank col4\" >&nbsp;</th>\n",
       "      <th class=\"blank col5\" >&nbsp;</th>\n",
       "    </tr>\n",
       "  </thead>\n",
       "  <tbody>\n",
       "    <tr>\n",
       "      <th id=\"T_1b24f_level0_row0\" class=\"row_heading level0 row0\" >0</th>\n",
       "      <td id=\"T_1b24f_row0_col0\" class=\"data row0 col0\" >0.4333</td>\n",
       "      <td id=\"T_1b24f_row0_col1\" class=\"data row0 col1\" >0.3667</td>\n",
       "      <td id=\"T_1b24f_row0_col2\" class=\"data row0 col2\" >0.6056</td>\n",
       "      <td id=\"T_1b24f_row0_col3\" class=\"data row0 col3\" >-0.3961</td>\n",
       "      <td id=\"T_1b24f_row0_col4\" class=\"data row0 col4\" >0.1254</td>\n",
       "      <td id=\"T_1b24f_row0_col5\" class=\"data row0 col5\" >0.1142</td>\n",
       "    </tr>\n",
       "    <tr>\n",
       "      <th id=\"T_1b24f_level0_row1\" class=\"row_heading level0 row1\" >1</th>\n",
       "      <td id=\"T_1b24f_row1_col0\" class=\"data row1 col0\" >0.5244</td>\n",
       "      <td id=\"T_1b24f_row1_col1\" class=\"data row1 col1\" >0.5046</td>\n",
       "      <td id=\"T_1b24f_row1_col2\" class=\"data row1 col2\" >0.7103</td>\n",
       "      <td id=\"T_1b24f_row1_col3\" class=\"data row1 col3\" >-1.7600</td>\n",
       "      <td id=\"T_1b24f_row1_col4\" class=\"data row1 col4\" >0.1471</td>\n",
       "      <td id=\"T_1b24f_row1_col5\" class=\"data row1 col5\" >0.1467</td>\n",
       "    </tr>\n",
       "    <tr>\n",
       "      <th id=\"T_1b24f_level0_row2\" class=\"row_heading level0 row2\" >2</th>\n",
       "      <td id=\"T_1b24f_row2_col0\" class=\"data row2 col0\" >0.5627</td>\n",
       "      <td id=\"T_1b24f_row2_col1\" class=\"data row2 col1\" >0.6975</td>\n",
       "      <td id=\"T_1b24f_row2_col2\" class=\"data row2 col2\" >0.8351</td>\n",
       "      <td id=\"T_1b24f_row2_col3\" class=\"data row2 col3\" >-0.2079</td>\n",
       "      <td id=\"T_1b24f_row2_col4\" class=\"data row2 col4\" >0.1628</td>\n",
       "      <td id=\"T_1b24f_row2_col5\" class=\"data row2 col5\" >0.1363</td>\n",
       "    </tr>\n",
       "    <tr>\n",
       "      <th id=\"T_1b24f_level0_row3\" class=\"row_heading level0 row3\" >3</th>\n",
       "      <td id=\"T_1b24f_row3_col0\" class=\"data row3 col0\" >0.4207</td>\n",
       "      <td id=\"T_1b24f_row3_col1\" class=\"data row3 col1\" >0.3032</td>\n",
       "      <td id=\"T_1b24f_row3_col2\" class=\"data row3 col2\" >0.5506</td>\n",
       "      <td id=\"T_1b24f_row3_col3\" class=\"data row3 col3\" >-0.1895</td>\n",
       "      <td id=\"T_1b24f_row3_col4\" class=\"data row3 col4\" >0.1159</td>\n",
       "      <td id=\"T_1b24f_row3_col5\" class=\"data row3 col5\" >0.1108</td>\n",
       "    </tr>\n",
       "    <tr>\n",
       "      <th id=\"T_1b24f_level0_row4\" class=\"row_heading level0 row4\" >Mean</th>\n",
       "      <td id=\"T_1b24f_row4_col0\" class=\"data row4 col0\" >0.4853</td>\n",
       "      <td id=\"T_1b24f_row4_col1\" class=\"data row4 col1\" >0.4680</td>\n",
       "      <td id=\"T_1b24f_row4_col2\" class=\"data row4 col2\" >0.6754</td>\n",
       "      <td id=\"T_1b24f_row4_col3\" class=\"data row4 col3\" >-0.6384</td>\n",
       "      <td id=\"T_1b24f_row4_col4\" class=\"data row4 col4\" >0.1378</td>\n",
       "      <td id=\"T_1b24f_row4_col5\" class=\"data row4 col5\" >0.1270</td>\n",
       "    </tr>\n",
       "    <tr>\n",
       "      <th id=\"T_1b24f_level0_row5\" class=\"row_heading level0 row5\" >Std</th>\n",
       "      <td id=\"T_1b24f_row5_col0\" class=\"data row5 col0\" >0.0600</td>\n",
       "      <td id=\"T_1b24f_row5_col1\" class=\"data row5 col1\" >0.1512</td>\n",
       "      <td id=\"T_1b24f_row5_col2\" class=\"data row5 col2\" >0.1086</td>\n",
       "      <td id=\"T_1b24f_row5_col3\" class=\"data row5 col3\" >0.6526</td>\n",
       "      <td id=\"T_1b24f_row5_col4\" class=\"data row5 col4\" >0.0183</td>\n",
       "      <td id=\"T_1b24f_row5_col5\" class=\"data row5 col5\" >0.0150</td>\n",
       "    </tr>\n",
       "  </tbody>\n",
       "</table>\n"
      ],
      "text/plain": [
       "<pandas.io.formats.style.Styler at 0x1472ab16a6d0>"
      ]
     },
     "metadata": {},
     "output_type": "display_data"
    },
    {
     "data": {
      "text/html": [],
      "text/plain": [
       "<IPython.core.display.HTML object>"
      ]
     },
     "metadata": {},
     "output_type": "display_data"
    },
    {
     "data": {
      "text/html": [],
      "text/plain": [
       "<IPython.core.display.HTML object>"
      ]
     },
     "metadata": {},
     "output_type": "display_data"
    },
    {
     "data": {
      "text/html": [
       "<style type=\"text/css\">\n",
       "#T_f368d_row4_col0, #T_f368d_row4_col1, #T_f368d_row4_col2, #T_f368d_row4_col3, #T_f368d_row4_col4, #T_f368d_row4_col5 {\n",
       "  background: yellow;\n",
       "}\n",
       "</style>\n",
       "<table id=\"T_f368d\">\n",
       "  <thead>\n",
       "    <tr>\n",
       "      <th class=\"blank level0\" >&nbsp;</th>\n",
       "      <th id=\"T_f368d_level0_col0\" class=\"col_heading level0 col0\" >MAE</th>\n",
       "      <th id=\"T_f368d_level0_col1\" class=\"col_heading level0 col1\" >MSE</th>\n",
       "      <th id=\"T_f368d_level0_col2\" class=\"col_heading level0 col2\" >RMSE</th>\n",
       "      <th id=\"T_f368d_level0_col3\" class=\"col_heading level0 col3\" >R2</th>\n",
       "      <th id=\"T_f368d_level0_col4\" class=\"col_heading level0 col4\" >RMSLE</th>\n",
       "      <th id=\"T_f368d_level0_col5\" class=\"col_heading level0 col5\" >MAPE</th>\n",
       "    </tr>\n",
       "    <tr>\n",
       "      <th class=\"index_name level0\" >Fold</th>\n",
       "      <th class=\"blank col0\" >&nbsp;</th>\n",
       "      <th class=\"blank col1\" >&nbsp;</th>\n",
       "      <th class=\"blank col2\" >&nbsp;</th>\n",
       "      <th class=\"blank col3\" >&nbsp;</th>\n",
       "      <th class=\"blank col4\" >&nbsp;</th>\n",
       "      <th class=\"blank col5\" >&nbsp;</th>\n",
       "    </tr>\n",
       "  </thead>\n",
       "  <tbody>\n",
       "    <tr>\n",
       "      <th id=\"T_f368d_level0_row0\" class=\"row_heading level0 row0\" >0</th>\n",
       "      <td id=\"T_f368d_row0_col0\" class=\"data row0 col0\" >0.3960</td>\n",
       "      <td id=\"T_f368d_row0_col1\" class=\"data row0 col1\" >0.2661</td>\n",
       "      <td id=\"T_f368d_row0_col2\" class=\"data row0 col2\" >0.5158</td>\n",
       "      <td id=\"T_f368d_row0_col3\" class=\"data row0 col3\" >-0.0129</td>\n",
       "      <td id=\"T_f368d_row0_col4\" class=\"data row0 col4\" >0.1059</td>\n",
       "      <td id=\"T_f368d_row0_col5\" class=\"data row0 col5\" >0.1085</td>\n",
       "    </tr>\n",
       "    <tr>\n",
       "      <th id=\"T_f368d_level0_row1\" class=\"row_heading level0 row1\" >1</th>\n",
       "      <td id=\"T_f368d_row1_col0\" class=\"data row1 col0\" >0.3703</td>\n",
       "      <td id=\"T_f368d_row1_col1\" class=\"data row1 col1\" >0.1839</td>\n",
       "      <td id=\"T_f368d_row1_col2\" class=\"data row1 col2\" >0.4289</td>\n",
       "      <td id=\"T_f368d_row1_col3\" class=\"data row1 col3\" >-0.0062</td>\n",
       "      <td id=\"T_f368d_row1_col4\" class=\"data row1 col4\" >0.0928</td>\n",
       "      <td id=\"T_f368d_row1_col5\" class=\"data row1 col5\" >0.1058</td>\n",
       "    </tr>\n",
       "    <tr>\n",
       "      <th id=\"T_f368d_level0_row2\" class=\"row_heading level0 row2\" >2</th>\n",
       "      <td id=\"T_f368d_row2_col0\" class=\"data row2 col0\" >0.5375</td>\n",
       "      <td id=\"T_f368d_row2_col1\" class=\"data row2 col1\" >0.6041</td>\n",
       "      <td id=\"T_f368d_row2_col2\" class=\"data row2 col2\" >0.7772</td>\n",
       "      <td id=\"T_f368d_row2_col3\" class=\"data row2 col3\" >-0.0461</td>\n",
       "      <td id=\"T_f368d_row2_col4\" class=\"data row2 col4\" >0.1486</td>\n",
       "      <td id=\"T_f368d_row2_col5\" class=\"data row2 col5\" >0.1310</td>\n",
       "    </tr>\n",
       "    <tr>\n",
       "      <th id=\"T_f368d_level0_row3\" class=\"row_heading level0 row3\" >3</th>\n",
       "      <td id=\"T_f368d_row3_col0\" class=\"data row3 col0\" >0.4063</td>\n",
       "      <td id=\"T_f368d_row3_col1\" class=\"data row3 col1\" >0.2526</td>\n",
       "      <td id=\"T_f368d_row3_col2\" class=\"data row3 col2\" >0.5025</td>\n",
       "      <td id=\"T_f368d_row3_col3\" class=\"data row3 col3\" >0.0092</td>\n",
       "      <td id=\"T_f368d_row3_col4\" class=\"data row3 col4\" >0.1047</td>\n",
       "      <td id=\"T_f368d_row3_col5\" class=\"data row3 col5\" >0.1100</td>\n",
       "    </tr>\n",
       "    <tr>\n",
       "      <th id=\"T_f368d_level0_row4\" class=\"row_heading level0 row4\" >Mean</th>\n",
       "      <td id=\"T_f368d_row4_col0\" class=\"data row4 col0\" >0.4275</td>\n",
       "      <td id=\"T_f368d_row4_col1\" class=\"data row4 col1\" >0.3267</td>\n",
       "      <td id=\"T_f368d_row4_col2\" class=\"data row4 col2\" >0.5561</td>\n",
       "      <td id=\"T_f368d_row4_col3\" class=\"data row4 col3\" >-0.0140</td>\n",
       "      <td id=\"T_f368d_row4_col4\" class=\"data row4 col4\" >0.1130</td>\n",
       "      <td id=\"T_f368d_row4_col5\" class=\"data row4 col5\" >0.1139</td>\n",
       "    </tr>\n",
       "    <tr>\n",
       "      <th id=\"T_f368d_level0_row5\" class=\"row_heading level0 row5\" >Std</th>\n",
       "      <td id=\"T_f368d_row5_col0\" class=\"data row5 col0\" >0.0648</td>\n",
       "      <td id=\"T_f368d_row5_col1\" class=\"data row5 col1\" >0.1632</td>\n",
       "      <td id=\"T_f368d_row5_col2\" class=\"data row5 col2\" >0.1319</td>\n",
       "      <td id=\"T_f368d_row5_col3\" class=\"data row5 col3\" >0.0202</td>\n",
       "      <td id=\"T_f368d_row5_col4\" class=\"data row5 col4\" >0.0212</td>\n",
       "      <td id=\"T_f368d_row5_col5\" class=\"data row5 col5\" >0.0100</td>\n",
       "    </tr>\n",
       "  </tbody>\n",
       "</table>\n"
      ],
      "text/plain": [
       "<pandas.io.formats.style.Styler at 0x1472ab389ee0>"
      ]
     },
     "metadata": {},
     "output_type": "display_data"
    },
    {
     "data": {
      "text/html": [],
      "text/plain": [
       "<IPython.core.display.HTML object>"
      ]
     },
     "metadata": {},
     "output_type": "display_data"
    },
    {
     "name": "stdout",
     "output_type": "stream",
     "text": [
      "Fitting 4 folds for each of 50 candidates, totalling 200 fits\n"
     ]
    },
    {
     "data": {
      "text/html": [
       "<style type=\"text/css\">\n",
       "</style>\n",
       "<table id=\"T_f1ba2\">\n",
       "  <thead>\n",
       "    <tr>\n",
       "      <th class=\"blank level0\" >&nbsp;</th>\n",
       "      <th id=\"T_f1ba2_level0_col0\" class=\"col_heading level0 col0\" >Model</th>\n",
       "      <th id=\"T_f1ba2_level0_col1\" class=\"col_heading level0 col1\" >MAE</th>\n",
       "      <th id=\"T_f1ba2_level0_col2\" class=\"col_heading level0 col2\" >MSE</th>\n",
       "      <th id=\"T_f1ba2_level0_col3\" class=\"col_heading level0 col3\" >RMSE</th>\n",
       "      <th id=\"T_f1ba2_level0_col4\" class=\"col_heading level0 col4\" >R2</th>\n",
       "      <th id=\"T_f1ba2_level0_col5\" class=\"col_heading level0 col5\" >RMSLE</th>\n",
       "      <th id=\"T_f1ba2_level0_col6\" class=\"col_heading level0 col6\" >MAPE</th>\n",
       "    </tr>\n",
       "  </thead>\n",
       "  <tbody>\n",
       "    <tr>\n",
       "      <th id=\"T_f1ba2_level0_row0\" class=\"row_heading level0 row0\" >0</th>\n",
       "      <td id=\"T_f1ba2_row0_col0\" class=\"data row0 col0\" >Extreme Gradient Boosting</td>\n",
       "      <td id=\"T_f1ba2_row0_col1\" class=\"data row0 col1\" >0.3799</td>\n",
       "      <td id=\"T_f1ba2_row0_col2\" class=\"data row0 col2\" >0.2360</td>\n",
       "      <td id=\"T_f1ba2_row0_col3\" class=\"data row0 col3\" >0.4858</td>\n",
       "      <td id=\"T_f1ba2_row0_col4\" class=\"data row0 col4\" >-0.0243</td>\n",
       "      <td id=\"T_f1ba2_row0_col5\" class=\"data row0 col5\" >0.1012</td>\n",
       "      <td id=\"T_f1ba2_row0_col6\" class=\"data row0 col6\" >0.1062</td>\n",
       "    </tr>\n",
       "  </tbody>\n",
       "</table>\n"
      ],
      "text/plain": [
       "<pandas.io.formats.style.Styler at 0x14728236ac40>"
      ]
     },
     "metadata": {},
     "output_type": "display_data"
    }
   ],
   "source": [
    "for tfold in [1,2,3,4,5]:\n",
    "    print(tfold)\n",
    "    test = all_data[all_data.fold==tfold]#.dropna()\n",
    "    test_features = test[all_features].reset_index(drop = True)\n",
    "\n",
    "    \n",
    "    train = all_data[all_data.fold!=tfold]\n",
    "    train_features = train[all_features].reset_index(drop = True)\n",
    "    print(len(train), len(test))\n",
    "\n",
    "    regr = setup(train_features, test_data = test_features, target = 'sd_insitu', ignore_features = ['fold', 'sd_hans'], numeric_features = numeric_features, categorical_features = categorical_features,\\\n",
    "              numeric_imputation='drop',index = False, normalize = True, fold_strategy = 'groupkfold', fold_groups = 'fold', fold = 4, session_id = 42, remove_outliers = True, verbose = False)\n",
    "    \n",
    "    mod = create_model('xgboost')\n",
    "    tuned_mod = tune_model(mod, n_iter = 50, optimize = 'MSE')\n",
    "\n",
    "    pred = predict_model(tuned_mod, data = test)\n",
    "    all_pred = pd.concat([all_pred, pred])"
   ]
  },
  {
   "cell_type": "code",
   "execution_count": 33,
   "id": "50bb88eb-9620-4034-b245-aa76cf0eb84c",
   "metadata": {},
   "outputs": [],
   "source": [
    "all_pred = all_pred[~np.isnan(all_pred.site)]"
   ]
  },
  {
   "cell_type": "code",
   "execution_count": 38,
   "id": "30affe35-991e-4f5b-99e9-dfc91ca45520",
   "metadata": {
    "tags": []
   },
   "outputs": [
    {
     "name": "stdout",
     "output_type": "stream",
     "text": [
      "MAE ML = 0.46367597579956055 m, R = -0.04356037267666929, slope = -0.0016868383340838966\n"
     ]
    },
    {
     "data": {
      "text/plain": [
       "[Text(0, 3, '3'), Text(0, 4, '4'), Text(0, 5, '5'), Text(0, 6, '6')]"
      ]
     },
     "execution_count": 38,
     "metadata": {},
     "output_type": "execute_result"
    },
    {
     "data": {
      "image/png": "[encoded data removed]",
      "text/plain": [
       "<Figure size 900x400 with 2 Axes>"
      ]
     },
     "metadata": {},
     "output_type": "display_data"
    },
    {
     "data": {
      "text/plain": [
       "<Figure size 3000x1000 with 0 Axes>"
      ]
     },
     "metadata": {},
     "output_type": "display_data"
    }
   ],
   "source": [
    "pred = all_pred.copy()#.dropna()\n",
    "pred.loc[pred.sc_per<0.25, 'prediction_label'] = 0\n",
    "\n",
    "pred.loc[pred.prediction_label<0, 'prediction_label'] = 0\n",
    "#pred.loc[pred.prediction_label==0, 'prediction_label'] = np.nan\n",
    "pred.loc[pred.sd_insitu==0, 'prediction_label'] = np.nan\n",
    "pred = pred.dropna()\n",
    "\n",
    "ml = stats.linregress(pred.sd_insitu.values, pred.prediction_label)\n",
    "#hans = stats.linregress(pred.sd_insitu.values, pred.sd_hans.values)\n",
    "    \n",
    "ml_mae = np.abs(pred.sd_insitu.values - pred.prediction_label).mean()\n",
    "print(f'MAE ML = {ml_mae} m, R = {ml.rvalue}, slope = {ml.slope}')\n",
    "    \n",
    "bins = np.arange(0,6.1,0.1)  \n",
    "fig, ax = plt.subplots(1,1,figsize = (5,5))\n",
    "    \n",
    "fig = plt.figure(figsize = (30,10))\n",
    "im1 = ax[0].hist2d(pred.sd_insitu.values, pred.prediction_label, bins=bins, cmap=blended_cmap, range=[[0, 6], [0, 6]], norm=LogNorm(vmin=1, vmax=100))\n",
    "ax[0].set_xlim([3,6])\n",
    "ax[0].set_ylim([3,6])\n",
    "ax[0].plot([0,6],[0,6], 'k-', alpha = 0.75)\n",
    "ax[0].set_xlabel('In-situ SD (m)', fontsize = 14)\n",
    "ax[0].set_ylabel('ML SD (m)', fontsize = 14)\n",
    "ax[0].set_xticks([3,4,5,6])\n",
    "ax[0].set_yticks([3,4,5,6])\n",
    "ax[0].set_xticklabels([3,4,5,6], fontsize = 12)\n",
    "ax[0].set_yticklabels([3,4,5,6], fontsize = 12)\n",
    "\n",
    "    "
   ]
  },
  {
   "cell_type": "code",
   "execution_count": 8,
   "id": "9078c866-33b1-49c4-8cfe-4862e56205a7",
   "metadata": {},
   "outputs": [],
   "source": [
    "with open('/staging/leuven/stg_00024/OUTPUT/devond/S1_ML_project/OUTPUT/testing_output/predictions_s1_xg.p', 'wb') as fp:\n",
    "    pickle.dump(all_pred, fp)"
   ]
  },
  {
   "cell_type": "code",
   "execution_count": 9,
   "id": "fd016fb4-045c-4fb9-a1b3-00e23f60e94f",
   "metadata": {
    "tags": []
   },
   "outputs": [
    {
     "data": {
      "text/html": [],
      "text/plain": [
       "<IPython.core.display.HTML object>"
      ]
     },
     "metadata": {},
     "output_type": "display_data"
    },
    {
     "data": {
      "text/html": [
       "<style type=\"text/css\">\n",
       "#T_08246_row5_col0, #T_08246_row5_col1, #T_08246_row5_col2, #T_08246_row5_col3, #T_08246_row5_col4, #T_08246_row5_col5 {\n",
       "  background: yellow;\n",
       "}\n",
       "</style>\n",
       "<table id=\"T_08246\">\n",
       "  <thead>\n",
       "    <tr>\n",
       "      <th class=\"blank level0\" >&nbsp;</th>\n",
       "      <th id=\"T_08246_level0_col0\" class=\"col_heading level0 col0\" >MAE</th>\n",
       "      <th id=\"T_08246_level0_col1\" class=\"col_heading level0 col1\" >MSE</th>\n",
       "      <th id=\"T_08246_level0_col2\" class=\"col_heading level0 col2\" >RMSE</th>\n",
       "      <th id=\"T_08246_level0_col3\" class=\"col_heading level0 col3\" >R2</th>\n",
       "      <th id=\"T_08246_level0_col4\" class=\"col_heading level0 col4\" >RMSLE</th>\n",
       "      <th id=\"T_08246_level0_col5\" class=\"col_heading level0 col5\" >MAPE</th>\n",
       "    </tr>\n",
       "    <tr>\n",
       "      <th class=\"index_name level0\" >Fold</th>\n",
       "      <th class=\"blank col0\" >&nbsp;</th>\n",
       "      <th class=\"blank col1\" >&nbsp;</th>\n",
       "      <th class=\"blank col2\" >&nbsp;</th>\n",
       "      <th class=\"blank col3\" >&nbsp;</th>\n",
       "      <th class=\"blank col4\" >&nbsp;</th>\n",
       "      <th class=\"blank col5\" >&nbsp;</th>\n",
       "    </tr>\n",
       "  </thead>\n",
       "  <tbody>\n",
       "    <tr>\n",
       "      <th id=\"T_08246_level0_row0\" class=\"row_heading level0 row0\" >0</th>\n",
       "      <td id=\"T_08246_row0_col0\" class=\"data row0 col0\" >0.2166</td>\n",
       "      <td id=\"T_08246_row0_col1\" class=\"data row0 col1\" >0.1084</td>\n",
       "      <td id=\"T_08246_row0_col2\" class=\"data row0 col2\" >0.3292</td>\n",
       "      <td id=\"T_08246_row0_col3\" class=\"data row0 col3\" >0.8686</td>\n",
       "      <td id=\"T_08246_row0_col4\" class=\"data row0 col4\" >0.1473</td>\n",
       "      <td id=\"T_08246_row0_col5\" class=\"data row0 col5\" >0.7587</td>\n",
       "    </tr>\n",
       "    <tr>\n",
       "      <th id=\"T_08246_level0_row1\" class=\"row_heading level0 row1\" >1</th>\n",
       "      <td id=\"T_08246_row1_col0\" class=\"data row1 col0\" >0.2164</td>\n",
       "      <td id=\"T_08246_row1_col1\" class=\"data row1 col1\" >0.1076</td>\n",
       "      <td id=\"T_08246_row1_col2\" class=\"data row1 col2\" >0.3281</td>\n",
       "      <td id=\"T_08246_row1_col3\" class=\"data row1 col3\" >0.8715</td>\n",
       "      <td id=\"T_08246_row1_col4\" class=\"data row1 col4\" >0.1472</td>\n",
       "      <td id=\"T_08246_row1_col5\" class=\"data row1 col5\" >0.8255</td>\n",
       "    </tr>\n",
       "    <tr>\n",
       "      <th id=\"T_08246_level0_row2\" class=\"row_heading level0 row2\" >2</th>\n",
       "      <td id=\"T_08246_row2_col0\" class=\"data row2 col0\" >0.2173</td>\n",
       "      <td id=\"T_08246_row2_col1\" class=\"data row2 col1\" >0.1094</td>\n",
       "      <td id=\"T_08246_row2_col2\" class=\"data row2 col2\" >0.3307</td>\n",
       "      <td id=\"T_08246_row2_col3\" class=\"data row2 col3\" >0.8680</td>\n",
       "      <td id=\"T_08246_row2_col4\" class=\"data row2 col4\" >0.1488</td>\n",
       "      <td id=\"T_08246_row2_col5\" class=\"data row2 col5\" >0.7847</td>\n",
       "    </tr>\n",
       "    <tr>\n",
       "      <th id=\"T_08246_level0_row3\" class=\"row_heading level0 row3\" >3</th>\n",
       "      <td id=\"T_08246_row3_col0\" class=\"data row3 col0\" >0.2170</td>\n",
       "      <td id=\"T_08246_row3_col1\" class=\"data row3 col1\" >0.1094</td>\n",
       "      <td id=\"T_08246_row3_col2\" class=\"data row3 col2\" >0.3307</td>\n",
       "      <td id=\"T_08246_row3_col3\" class=\"data row3 col3\" >0.8706</td>\n",
       "      <td id=\"T_08246_row3_col4\" class=\"data row3 col4\" >0.1480</td>\n",
       "      <td id=\"T_08246_row3_col5\" class=\"data row3 col5\" >0.8368</td>\n",
       "    </tr>\n",
       "    <tr>\n",
       "      <th id=\"T_08246_level0_row4\" class=\"row_heading level0 row4\" >4</th>\n",
       "      <td id=\"T_08246_row4_col0\" class=\"data row4 col0\" >0.2169</td>\n",
       "      <td id=\"T_08246_row4_col1\" class=\"data row4 col1\" >0.1092</td>\n",
       "      <td id=\"T_08246_row4_col2\" class=\"data row4 col2\" >0.3305</td>\n",
       "      <td id=\"T_08246_row4_col3\" class=\"data row4 col3\" >0.8680</td>\n",
       "      <td id=\"T_08246_row4_col4\" class=\"data row4 col4\" >0.1483</td>\n",
       "      <td id=\"T_08246_row4_col5\" class=\"data row4 col5\" >0.7541</td>\n",
       "    </tr>\n",
       "    <tr>\n",
       "      <th id=\"T_08246_level0_row5\" class=\"row_heading level0 row5\" >Mean</th>\n",
       "      <td id=\"T_08246_row5_col0\" class=\"data row5 col0\" >0.2169</td>\n",
       "      <td id=\"T_08246_row5_col1\" class=\"data row5 col1\" >0.1088</td>\n",
       "      <td id=\"T_08246_row5_col2\" class=\"data row5 col2\" >0.3298</td>\n",
       "      <td id=\"T_08246_row5_col3\" class=\"data row5 col3\" >0.8693</td>\n",
       "      <td id=\"T_08246_row5_col4\" class=\"data row5 col4\" >0.1479</td>\n",
       "      <td id=\"T_08246_row5_col5\" class=\"data row5 col5\" >0.7919</td>\n",
       "    </tr>\n",
       "    <tr>\n",
       "      <th id=\"T_08246_level0_row6\" class=\"row_heading level0 row6\" >Std</th>\n",
       "      <td id=\"T_08246_row6_col0\" class=\"data row6 col0\" >0.0003</td>\n",
       "      <td id=\"T_08246_row6_col1\" class=\"data row6 col1\" >0.0007</td>\n",
       "      <td id=\"T_08246_row6_col2\" class=\"data row6 col2\" >0.0010</td>\n",
       "      <td id=\"T_08246_row6_col3\" class=\"data row6 col3\" >0.0014</td>\n",
       "      <td id=\"T_08246_row6_col4\" class=\"data row6 col4\" >0.0006</td>\n",
       "      <td id=\"T_08246_row6_col5\" class=\"data row6 col5\" >0.0338</td>\n",
       "    </tr>\n",
       "  </tbody>\n",
       "</table>\n"
      ],
      "text/plain": [
       "<pandas.io.formats.style.Styler at 0x15319fe4a460>"
      ]
     },
     "metadata": {},
     "output_type": "display_data"
    },
    {
     "data": {
      "text/html": [],
      "text/plain": [
       "<IPython.core.display.HTML object>"
      ]
     },
     "metadata": {},
     "output_type": "display_data"
    },
    {
     "data": {
      "text/html": [],
      "text/plain": [
       "<IPython.core.display.HTML object>"
      ]
     },
     "metadata": {},
     "output_type": "display_data"
    },
    {
     "data": {
      "text/html": [
       "<style type=\"text/css\">\n",
       "#T_2b228_row5_col0, #T_2b228_row5_col1, #T_2b228_row5_col2, #T_2b228_row5_col3, #T_2b228_row5_col4, #T_2b228_row5_col5 {\n",
       "  background: yellow;\n",
       "}\n",
       "</style>\n",
       "<table id=\"T_2b228\">\n",
       "  <thead>\n",
       "    <tr>\n",
       "      <th class=\"blank level0\" >&nbsp;</th>\n",
       "      <th id=\"T_2b228_level0_col0\" class=\"col_heading level0 col0\" >MAE</th>\n",
       "      <th id=\"T_2b228_level0_col1\" class=\"col_heading level0 col1\" >MSE</th>\n",
       "      <th id=\"T_2b228_level0_col2\" class=\"col_heading level0 col2\" >RMSE</th>\n",
       "      <th id=\"T_2b228_level0_col3\" class=\"col_heading level0 col3\" >R2</th>\n",
       "      <th id=\"T_2b228_level0_col4\" class=\"col_heading level0 col4\" >RMSLE</th>\n",
       "      <th id=\"T_2b228_level0_col5\" class=\"col_heading level0 col5\" >MAPE</th>\n",
       "    </tr>\n",
       "    <tr>\n",
       "      <th class=\"index_name level0\" >Fold</th>\n",
       "      <th class=\"blank col0\" >&nbsp;</th>\n",
       "      <th class=\"blank col1\" >&nbsp;</th>\n",
       "      <th class=\"blank col2\" >&nbsp;</th>\n",
       "      <th class=\"blank col3\" >&nbsp;</th>\n",
       "      <th class=\"blank col4\" >&nbsp;</th>\n",
       "      <th class=\"blank col5\" >&nbsp;</th>\n",
       "    </tr>\n",
       "  </thead>\n",
       "  <tbody>\n",
       "    <tr>\n",
       "      <th id=\"T_2b228_level0_row0\" class=\"row_heading level0 row0\" >0</th>\n",
       "      <td id=\"T_2b228_row0_col0\" class=\"data row0 col0\" >0.1892</td>\n",
       "      <td id=\"T_2b228_row0_col1\" class=\"data row0 col1\" >0.0877</td>\n",
       "      <td id=\"T_2b228_row0_col2\" class=\"data row0 col2\" >0.2962</td>\n",
       "      <td id=\"T_2b228_row0_col3\" class=\"data row0 col3\" >0.8937</td>\n",
       "      <td id=\"T_2b228_row0_col4\" class=\"data row0 col4\" >0.1307</td>\n",
       "      <td id=\"T_2b228_row0_col5\" class=\"data row0 col5\" >0.6455</td>\n",
       "    </tr>\n",
       "    <tr>\n",
       "      <th id=\"T_2b228_level0_row1\" class=\"row_heading level0 row1\" >1</th>\n",
       "      <td id=\"T_2b228_row1_col0\" class=\"data row1 col0\" >0.1898</td>\n",
       "      <td id=\"T_2b228_row1_col1\" class=\"data row1 col1\" >0.0875</td>\n",
       "      <td id=\"T_2b228_row1_col2\" class=\"data row1 col2\" >0.2959</td>\n",
       "      <td id=\"T_2b228_row1_col3\" class=\"data row1 col3\" >0.8955</td>\n",
       "      <td id=\"T_2b228_row1_col4\" class=\"data row1 col4\" >0.1304</td>\n",
       "      <td id=\"T_2b228_row1_col5\" class=\"data row1 col5\" >0.6890</td>\n",
       "    </tr>\n",
       "    <tr>\n",
       "      <th id=\"T_2b228_level0_row2\" class=\"row_heading level0 row2\" >2</th>\n",
       "      <td id=\"T_2b228_row2_col0\" class=\"data row2 col0\" >0.1908</td>\n",
       "      <td id=\"T_2b228_row2_col1\" class=\"data row2 col1\" >0.0895</td>\n",
       "      <td id=\"T_2b228_row2_col2\" class=\"data row2 col2\" >0.2992</td>\n",
       "      <td id=\"T_2b228_row2_col3\" class=\"data row2 col3\" >0.8920</td>\n",
       "      <td id=\"T_2b228_row2_col4\" class=\"data row2 col4\" >0.1330</td>\n",
       "      <td id=\"T_2b228_row2_col5\" class=\"data row2 col5\" >0.6941</td>\n",
       "    </tr>\n",
       "    <tr>\n",
       "      <th id=\"T_2b228_level0_row3\" class=\"row_heading level0 row3\" >3</th>\n",
       "      <td id=\"T_2b228_row3_col0\" class=\"data row3 col0\" >0.1902</td>\n",
       "      <td id=\"T_2b228_row3_col1\" class=\"data row3 col1\" >0.0893</td>\n",
       "      <td id=\"T_2b228_row3_col2\" class=\"data row3 col2\" >0.2988</td>\n",
       "      <td id=\"T_2b228_row3_col3\" class=\"data row3 col3\" >0.8943</td>\n",
       "      <td id=\"T_2b228_row3_col4\" class=\"data row3 col4\" >0.1314</td>\n",
       "      <td id=\"T_2b228_row3_col5\" class=\"data row3 col5\" >0.7061</td>\n",
       "    </tr>\n",
       "    <tr>\n",
       "      <th id=\"T_2b228_level0_row4\" class=\"row_heading level0 row4\" >4</th>\n",
       "      <td id=\"T_2b228_row4_col0\" class=\"data row4 col0\" >0.1881</td>\n",
       "      <td id=\"T_2b228_row4_col1\" class=\"data row4 col1\" >0.0873</td>\n",
       "      <td id=\"T_2b228_row4_col2\" class=\"data row4 col2\" >0.2954</td>\n",
       "      <td id=\"T_2b228_row4_col3\" class=\"data row4 col3\" >0.8945</td>\n",
       "      <td id=\"T_2b228_row4_col4\" class=\"data row4 col4\" >0.1308</td>\n",
       "      <td id=\"T_2b228_row4_col5\" class=\"data row4 col5\" >0.6284</td>\n",
       "    </tr>\n",
       "    <tr>\n",
       "      <th id=\"T_2b228_level0_row5\" class=\"row_heading level0 row5\" >Mean</th>\n",
       "      <td id=\"T_2b228_row5_col0\" class=\"data row5 col0\" >0.1896</td>\n",
       "      <td id=\"T_2b228_row5_col1\" class=\"data row5 col1\" >0.0883</td>\n",
       "      <td id=\"T_2b228_row5_col2\" class=\"data row5 col2\" >0.2971</td>\n",
       "      <td id=\"T_2b228_row5_col3\" class=\"data row5 col3\" >0.8940</td>\n",
       "      <td id=\"T_2b228_row5_col4\" class=\"data row5 col4\" >0.1313</td>\n",
       "      <td id=\"T_2b228_row5_col5\" class=\"data row5 col5\" >0.6726</td>\n",
       "    </tr>\n",
       "    <tr>\n",
       "      <th id=\"T_2b228_level0_row6\" class=\"row_heading level0 row6\" >Std</th>\n",
       "      <td id=\"T_2b228_row6_col0\" class=\"data row6 col0\" >0.0009</td>\n",
       "      <td id=\"T_2b228_row6_col1\" class=\"data row6 col1\" >0.0009</td>\n",
       "      <td id=\"T_2b228_row6_col2\" class=\"data row6 col2\" >0.0016</td>\n",
       "      <td id=\"T_2b228_row6_col3\" class=\"data row6 col3\" >0.0012</td>\n",
       "      <td id=\"T_2b228_row6_col4\" class=\"data row6 col4\" >0.0009</td>\n",
       "      <td id=\"T_2b228_row6_col5\" class=\"data row6 col5\" >0.0301</td>\n",
       "    </tr>\n",
       "  </tbody>\n",
       "</table>\n"
      ],
      "text/plain": [
       "<pandas.io.formats.style.Styler at 0x15318ea314f0>"
      ]
     },
     "metadata": {},
     "output_type": "display_data"
    },
    {
     "data": {
      "text/html": [],
      "text/plain": [
       "<IPython.core.display.HTML object>"
      ]
     },
     "metadata": {},
     "output_type": "display_data"
    },
    {
     "name": "stdout",
     "output_type": "stream",
     "text": [
      "Fitting 5 folds for each of 50 candidates, totalling 250 fits\n"
     ]
    }
   ],
   "source": [
    "train = all_data#[all_data.fold!=1]\n",
    "train = train.reset_index()\n",
    "train = train.drop(labels = 'index', axis = 1)\n",
    "train_features = train[all_features].dropna().reset_index(drop = True)\n",
    "\n",
    "regr = setup(train_features, target = 'sd_insitu', ignore_features = ['fold'], numeric_features = numeric_features, categorical_features = categorical_features,\\\n",
    "            numeric_imputation='drop',index = False, normalize = True, fold = 5, session_id = 42, remove_outliers = True, verbose = False)\n",
    "mod = create_model('xgboost')\n",
    "tuned_mod = tune_model(mod, n_iter = 50, optimize = 'MSE')\n"
   ]
  },
  {
   "cell_type": "code",
   "execution_count": 10,
   "id": "e04ea4c6-ffe6-4a1f-8b0c-713dbe44a88b",
   "metadata": {},
   "outputs": [
    {
     "name": "stdout",
     "output_type": "stream",
     "text": [
      "Transformation Pipeline and Model Successfully Saved\n"
     ]
    },
    {
     "data": {
      "text/plain": [
       "(Pipeline(memory=Memory(location=None),\n",
       "          steps=[('numerical_imputer',\n",
       "                  TransformerWrapper(transformer=DropImputer(columns=['elevation',\n",
       "                                                                      'slope',\n",
       "                                                                      'aspect',\n",
       "                                                                      'fcf',\n",
       "                                                                      'tpi',\n",
       "                                                                      'DayOfSeason',\n",
       "                                                                      'sc_percum',\n",
       "                                                                      'lia_100',\n",
       "                                                                      'sc_per',\n",
       "                                                                      'cr_100_scaled',\n",
       "                                                                      'vv_100_scaled']))),\n",
       "                 ('categorical_imputer',\n",
       "                  TransformerWrapper(include=['snowclass'],\n",
       "                                     transformer=SimpleImputer(strategy='most_frequ...\n",
       "                               feature_types=None, gamma=None, grow_policy=None,\n",
       "                               importance_type=None,\n",
       "                               interaction_constraints=None, learning_rate=0.05,\n",
       "                               max_bin=None, max_cat_threshold=None,\n",
       "                               max_cat_to_onehot=None, max_delta_step=None,\n",
       "                               max_depth=10, max_leaves=None, min_child_weight=3,\n",
       "                               missing=nan, monotone_constraints=None,\n",
       "                               multi_strategy=None, n_estimators=230, n_jobs=-1,\n",
       "                               num_parallel_tree=None, random_state=42, ...))]),\n",
       " '/staging/leuven/stg_00024/OUTPUT/devond/S1_ML_project/models/final_model_xg_100.pkl')"
      ]
     },
     "execution_count": 10,
     "metadata": {},
     "output_type": "execute_result"
    }
   ],
   "source": [
    "final_mod = finalize_model(tuned_mod)\n",
    "save_model(final_mod, '/staging/leuven/stg_00024/OUTPUT/devond/S1_ML_project/models/final_model_xg')"
   ]
  },
  {
   "cell_type": "code",
   "execution_count": null,
   "id": "509f1556-8a67-4eb9-9432-5b4f1ea44df1",
   "metadata": {},
   "outputs": [],
   "source": []
  }
 ],
 "metadata": {
  "kernelspec": {
   "display_name": "ml_snow",
   "language": "python",
   "name": "ml_snow"
  },
  "language_info": {
   "codemirror_mode": {
    "name": "ipython",
    "version": 3
   },
   "file_extension": ".py",
   "mimetype": "text/x-python",
   "name": "python",
   "nbconvert_exporter": "python",
   "pygments_lexer": "ipython3",
   "version": "3.9.18"
  },
  "toc-autonumbering": true,
  "toc-showmarkdowntxt": true
 },
 "nbformat": 4,
 "nbformat_minor": 5
}
